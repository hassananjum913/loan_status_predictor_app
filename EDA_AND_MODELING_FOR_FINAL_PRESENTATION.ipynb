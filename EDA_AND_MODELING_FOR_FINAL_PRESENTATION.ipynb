{
 "cells": [
  {
   "cell_type": "markdown",
   "metadata": {},
   "source": [
    "# <font color='blue'>LOAN STATUS PREDICTION<font/>"
   ]
  },
  {
   "cell_type": "markdown",
   "metadata": {},
   "source": [
    "#### Importing Required Libraries for Model Building"
   ]
  },
  {
   "cell_type": "code",
   "execution_count": 3,
   "metadata": {},
   "outputs": [],
   "source": [
    "import numpy as np\n",
    "import pandas as pd\n",
    "import matplotlib.pyplot as plt\n",
    "from sklearn.model_selection import train_test_split\n",
    "import statsmodels.api as sm\n",
    "from sklearn.linear_model import LogisticRegression\n",
    "from sklearn.tree import DecisionTreeClassifier\n",
    "from sklearn.ensemble import RandomForestClassifier\n",
    "from sklearn.neighbors import KNeighborsClassifier\n",
    "from sklearn.naive_bayes import GaussianNB,BernoulliNB,MultinomialNB\n",
    "from sklearn.svm import SVC\n",
    "from sklearn.preprocessing import StandardScaler\n",
    "from sklearn.pipeline import make_pipeline\n",
    "import warnings\n",
    "warnings.filterwarnings('ignore')\n",
    "from sklearn.metrics import confusion_matrix,classification_report,plot_confusion_matrix,roc_auc_score\n",
    "from sklearn.model_selection import cross_val_score\n",
    "from sklearn import set_config\n",
    "set_config(display='diagram')"
   ]
  },
  {
   "cell_type": "markdown",
   "metadata": {},
   "source": [
    "#### Pre-Processed Cleaned Data from EDA"
   ]
  },
  {
   "cell_type": "code",
   "execution_count": 4,
   "metadata": {},
   "outputs": [
    {
     "data": {
      "text/html": [
       "<div>\n",
       "<style scoped>\n",
       "    .dataframe tbody tr th:only-of-type {\n",
       "        vertical-align: middle;\n",
       "    }\n",
       "\n",
       "    .dataframe tbody tr th {\n",
       "        vertical-align: top;\n",
       "    }\n",
       "\n",
       "    .dataframe thead th {\n",
       "        text-align: right;\n",
       "    }\n",
       "</style>\n",
       "<table border=\"1\" class=\"dataframe\">\n",
       "  <thead>\n",
       "    <tr style=\"text-align: right;\">\n",
       "      <th></th>\n",
       "      <th>Loan Status</th>\n",
       "      <th>Current Loan Amount</th>\n",
       "      <th>Term</th>\n",
       "      <th>Credit Score</th>\n",
       "      <th>Annual Income</th>\n",
       "      <th>Years in current job</th>\n",
       "      <th>Home Ownership</th>\n",
       "      <th>Purpose</th>\n",
       "      <th>Monthly Debt</th>\n",
       "      <th>Years of Credit History</th>\n",
       "      <th>Months since last delinquent</th>\n",
       "      <th>Number of Open Accounts</th>\n",
       "      <th>Number of Credit Problems</th>\n",
       "      <th>Current Credit Balance</th>\n",
       "      <th>Maximum Open Credit</th>\n",
       "      <th>Bankruptcies</th>\n",
       "      <th>Tax Liens</th>\n",
       "    </tr>\n",
       "  </thead>\n",
       "  <tbody>\n",
       "    <tr>\n",
       "      <th>0</th>\n",
       "      <td>Fully Paid</td>\n",
       "      <td>445412.0</td>\n",
       "      <td>Short Term</td>\n",
       "      <td>709.0</td>\n",
       "      <td>1167493.0</td>\n",
       "      <td>8 years</td>\n",
       "      <td>Home Mortgage</td>\n",
       "      <td>Home Improvements</td>\n",
       "      <td>5214.74</td>\n",
       "      <td>17.2</td>\n",
       "      <td>32.0</td>\n",
       "      <td>6.0</td>\n",
       "      <td>1.0</td>\n",
       "      <td>228190.0</td>\n",
       "      <td>416746.0</td>\n",
       "      <td>1.0</td>\n",
       "      <td>0.0</td>\n",
       "    </tr>\n",
       "    <tr>\n",
       "      <th>1</th>\n",
       "      <td>Fully Paid</td>\n",
       "      <td>262328.0</td>\n",
       "      <td>Short Term</td>\n",
       "      <td>732.0</td>\n",
       "      <td>1219961.5</td>\n",
       "      <td>10+ years</td>\n",
       "      <td>Home Mortgage</td>\n",
       "      <td>Debt Consolidation</td>\n",
       "      <td>33295.98</td>\n",
       "      <td>21.1</td>\n",
       "      <td>8.0</td>\n",
       "      <td>35.0</td>\n",
       "      <td>0.0</td>\n",
       "      <td>229976.0</td>\n",
       "      <td>850784.0</td>\n",
       "      <td>0.0</td>\n",
       "      <td>0.0</td>\n",
       "    </tr>\n",
       "    <tr>\n",
       "      <th>2</th>\n",
       "      <td>Fully Paid</td>\n",
       "      <td>789250.0</td>\n",
       "      <td>Short Term</td>\n",
       "      <td>741.0</td>\n",
       "      <td>2231892.0</td>\n",
       "      <td>8 years</td>\n",
       "      <td>Own Home</td>\n",
       "      <td>Debt Consolidation</td>\n",
       "      <td>29200.53</td>\n",
       "      <td>14.9</td>\n",
       "      <td>29.0</td>\n",
       "      <td>18.0</td>\n",
       "      <td>1.0</td>\n",
       "      <td>297996.0</td>\n",
       "      <td>750090.0</td>\n",
       "      <td>0.0</td>\n",
       "      <td>0.0</td>\n",
       "    </tr>\n",
       "    <tr>\n",
       "      <th>3</th>\n",
       "      <td>Fully Paid</td>\n",
       "      <td>347666.0</td>\n",
       "      <td>Long Term</td>\n",
       "      <td>721.0</td>\n",
       "      <td>806949.0</td>\n",
       "      <td>3 years</td>\n",
       "      <td>Own Home</td>\n",
       "      <td>Debt Consolidation</td>\n",
       "      <td>8741.90</td>\n",
       "      <td>12.0</td>\n",
       "      <td>32.0</td>\n",
       "      <td>9.0</td>\n",
       "      <td>0.0</td>\n",
       "      <td>256329.0</td>\n",
       "      <td>386958.0</td>\n",
       "      <td>0.0</td>\n",
       "      <td>0.0</td>\n",
       "    </tr>\n",
       "    <tr>\n",
       "      <th>4</th>\n",
       "      <td>Fully Paid</td>\n",
       "      <td>176220.0</td>\n",
       "      <td>Short Term</td>\n",
       "      <td>732.0</td>\n",
       "      <td>1219961.5</td>\n",
       "      <td>5 years</td>\n",
       "      <td>Rent</td>\n",
       "      <td>Debt Consolidation</td>\n",
       "      <td>20639.70</td>\n",
       "      <td>6.1</td>\n",
       "      <td>32.0</td>\n",
       "      <td>15.0</td>\n",
       "      <td>0.0</td>\n",
       "      <td>253460.0</td>\n",
       "      <td>427174.0</td>\n",
       "      <td>0.0</td>\n",
       "      <td>0.0</td>\n",
       "    </tr>\n",
       "  </tbody>\n",
       "</table>\n",
       "</div>"
      ],
      "text/plain": [
       "  Loan Status  Current Loan Amount        Term  Credit Score  Annual Income  \\\n",
       "0  Fully Paid             445412.0  Short Term         709.0      1167493.0   \n",
       "1  Fully Paid             262328.0  Short Term         732.0      1219961.5   \n",
       "2  Fully Paid             789250.0  Short Term         741.0      2231892.0   \n",
       "3  Fully Paid             347666.0   Long Term         721.0       806949.0   \n",
       "4  Fully Paid             176220.0  Short Term         732.0      1219961.5   \n",
       "\n",
       "  Years in current job Home Ownership             Purpose  Monthly Debt  \\\n",
       "0              8 years  Home Mortgage   Home Improvements       5214.74   \n",
       "1            10+ years  Home Mortgage  Debt Consolidation      33295.98   \n",
       "2              8 years       Own Home  Debt Consolidation      29200.53   \n",
       "3              3 years       Own Home  Debt Consolidation       8741.90   \n",
       "4              5 years           Rent  Debt Consolidation      20639.70   \n",
       "\n",
       "   Years of Credit History  Months since last delinquent  \\\n",
       "0                     17.2                          32.0   \n",
       "1                     21.1                           8.0   \n",
       "2                     14.9                          29.0   \n",
       "3                     12.0                          32.0   \n",
       "4                      6.1                          32.0   \n",
       "\n",
       "   Number of Open Accounts  Number of Credit Problems  Current Credit Balance  \\\n",
       "0                      6.0                        1.0                228190.0   \n",
       "1                     35.0                        0.0                229976.0   \n",
       "2                     18.0                        1.0                297996.0   \n",
       "3                      9.0                        0.0                256329.0   \n",
       "4                     15.0                        0.0                253460.0   \n",
       "\n",
       "   Maximum Open Credit  Bankruptcies  Tax Liens  \n",
       "0             416746.0           1.0        0.0  \n",
       "1             850784.0           0.0        0.0  \n",
       "2             750090.0           0.0        0.0  \n",
       "3             386958.0           0.0        0.0  \n",
       "4             427174.0           0.0        0.0  "
      ]
     },
     "execution_count": 4,
     "metadata": {},
     "output_type": "execute_result"
    }
   ],
   "source": [
    "df = pd.read_csv('credit_train_cleaned.csv')\n",
    "\n",
    "df.head()"
   ]
  },
  {
   "cell_type": "markdown",
   "metadata": {},
   "source": [
    "# <font color='blue'> Categorical variable handling<font/>"
   ]
  },
  {
   "cell_type": "markdown",
   "metadata": {},
   "source": [
    "#### Checking cardinality of Categorical columns"
   ]
  },
  {
   "cell_type": "code",
   "execution_count": 19,
   "metadata": {},
   "outputs": [],
   "source": [
    "cat_df  = df.select_dtypes(include='O')"
   ]
  },
  {
   "cell_type": "code",
   "execution_count": 6,
   "metadata": {},
   "outputs": [
    {
     "data": {
      "text/plain": [
       "Index(['Loan Status', 'Term', 'Years in current job', 'Home Ownership',\n",
       "       'Purpose'],\n",
       "      dtype='object')"
      ]
     },
     "execution_count": 6,
     "metadata": {},
     "output_type": "execute_result"
    }
   ],
   "source": [
    "cat_columns = cat_df.columns\n",
    "\n",
    "cat_columns"
   ]
  },
  {
   "cell_type": "code",
   "execution_count": 7,
   "metadata": {},
   "outputs": [
    {
     "data": {
      "text/html": [
       "<div>\n",
       "<style scoped>\n",
       "    .dataframe tbody tr th:only-of-type {\n",
       "        vertical-align: middle;\n",
       "    }\n",
       "\n",
       "    .dataframe tbody tr th {\n",
       "        vertical-align: top;\n",
       "    }\n",
       "\n",
       "    .dataframe thead th {\n",
       "        text-align: right;\n",
       "    }\n",
       "</style>\n",
       "<table border=\"1\" class=\"dataframe\">\n",
       "  <thead>\n",
       "    <tr style=\"text-align: right;\">\n",
       "      <th></th>\n",
       "      <th>Cardinality</th>\n",
       "    </tr>\n",
       "  </thead>\n",
       "  <tbody>\n",
       "    <tr>\n",
       "      <th>Term</th>\n",
       "      <td>2</td>\n",
       "    </tr>\n",
       "    <tr>\n",
       "      <th>Home Ownership</th>\n",
       "      <td>4</td>\n",
       "    </tr>\n",
       "    <tr>\n",
       "      <th>Years in current job</th>\n",
       "      <td>11</td>\n",
       "    </tr>\n",
       "    <tr>\n",
       "      <th>Purpose</th>\n",
       "      <td>16</td>\n",
       "    </tr>\n",
       "  </tbody>\n",
       "</table>\n",
       "</div>"
      ],
      "text/plain": [
       "                      Cardinality\n",
       "Term                            2\n",
       "Home Ownership                  4\n",
       "Years in current job           11\n",
       "Purpose                        16"
      ]
     },
     "execution_count": 7,
     "metadata": {},
     "output_type": "execute_result"
    }
   ],
   "source": [
    "card_list=[]\n",
    "for i in cat_columns:\n",
    "        card = df[i].nunique()\n",
    "        card_list.append(card)\n",
    "        \n",
    "card_df = pd.DataFrame({'Cardinality':card_list},index = cat_columns)  \n",
    "card_df.sort_values(by='Cardinality')[1:]"
   ]
  },
  {
   "cell_type": "markdown",
   "metadata": {},
   "source": [
    "* Ideally from Machine Learning Model Building perspective we should ideally consider the categorical columns with low cardinality.\n",
    "* So, any column with cardinality > 10 should not be considered.\n",
    "* But , as we have few categorical columns , we consider all the categorical features for our model.\n",
    "* We prefer dummy encoding here , as we have cardinal categorical data mostly. "
   ]
  },
  {
   "cell_type": "code",
   "execution_count": 8,
   "metadata": {},
   "outputs": [],
   "source": [
    "df=pd.get_dummies(df,drop_first=True)"
   ]
  },
  {
   "cell_type": "markdown",
   "metadata": {},
   "source": [
    "#### List of Columns after Performing Dummy Encoding"
   ]
  },
  {
   "cell_type": "code",
   "execution_count": 9,
   "metadata": {},
   "outputs": [
    {
     "data": {
      "text/plain": [
       "Index(['Current Loan Amount', 'Credit Score', 'Annual Income', 'Monthly Debt',\n",
       "       'Years of Credit History', 'Months since last delinquent',\n",
       "       'Number of Open Accounts', 'Number of Credit Problems',\n",
       "       'Current Credit Balance', 'Maximum Open Credit', 'Bankruptcies',\n",
       "       'Tax Liens', 'Loan Status_Fully Paid', 'Term_Short Term',\n",
       "       'Years in current job_10+ years', 'Years in current job_2 years',\n",
       "       'Years in current job_3 years', 'Years in current job_4 years',\n",
       "       'Years in current job_5 years', 'Years in current job_6 years',\n",
       "       'Years in current job_7 years', 'Years in current job_8 years',\n",
       "       'Years in current job_9 years', 'Years in current job_< 1 year',\n",
       "       'Home Ownership_Home Mortgage', 'Home Ownership_Own Home',\n",
       "       'Home Ownership_Rent', 'Purpose_Buy House', 'Purpose_Buy a Car',\n",
       "       'Purpose_Debt Consolidation', 'Purpose_Educational Expenses',\n",
       "       'Purpose_Home Improvements', 'Purpose_Medical Bills', 'Purpose_Other',\n",
       "       'Purpose_Take a Trip', 'Purpose_major_purchase', 'Purpose_moving',\n",
       "       'Purpose_other', 'Purpose_renewable_energy', 'Purpose_small_business',\n",
       "       'Purpose_vacation', 'Purpose_wedding'],\n",
       "      dtype='object')"
      ]
     },
     "execution_count": 9,
     "metadata": {},
     "output_type": "execute_result"
    }
   ],
   "source": [
    "df.columns"
   ]
  },
  {
   "cell_type": "code",
   "execution_count": 10,
   "metadata": {},
   "outputs": [
    {
     "data": {
      "text/html": [
       "<div>\n",
       "<style scoped>\n",
       "    .dataframe tbody tr th:only-of-type {\n",
       "        vertical-align: middle;\n",
       "    }\n",
       "\n",
       "    .dataframe tbody tr th {\n",
       "        vertical-align: top;\n",
       "    }\n",
       "\n",
       "    .dataframe thead th {\n",
       "        text-align: right;\n",
       "    }\n",
       "</style>\n",
       "<table border=\"1\" class=\"dataframe\">\n",
       "  <thead>\n",
       "    <tr style=\"text-align: right;\">\n",
       "      <th></th>\n",
       "      <th>Current Loan Amount</th>\n",
       "      <th>Credit Score</th>\n",
       "      <th>Annual Income</th>\n",
       "      <th>Monthly Debt</th>\n",
       "      <th>Years of Credit History</th>\n",
       "      <th>Months since last delinquent</th>\n",
       "      <th>Number of Open Accounts</th>\n",
       "      <th>Number of Credit Problems</th>\n",
       "      <th>Current Credit Balance</th>\n",
       "      <th>Maximum Open Credit</th>\n",
       "      <th>...</th>\n",
       "      <th>Purpose_Medical Bills</th>\n",
       "      <th>Purpose_Other</th>\n",
       "      <th>Purpose_Take a Trip</th>\n",
       "      <th>Purpose_major_purchase</th>\n",
       "      <th>Purpose_moving</th>\n",
       "      <th>Purpose_other</th>\n",
       "      <th>Purpose_renewable_energy</th>\n",
       "      <th>Purpose_small_business</th>\n",
       "      <th>Purpose_vacation</th>\n",
       "      <th>Purpose_wedding</th>\n",
       "    </tr>\n",
       "  </thead>\n",
       "  <tbody>\n",
       "    <tr>\n",
       "      <th>0</th>\n",
       "      <td>445412.0</td>\n",
       "      <td>709.0</td>\n",
       "      <td>1167493.0</td>\n",
       "      <td>5214.74</td>\n",
       "      <td>17.2</td>\n",
       "      <td>32.0</td>\n",
       "      <td>6.0</td>\n",
       "      <td>1.0</td>\n",
       "      <td>228190.0</td>\n",
       "      <td>416746.0</td>\n",
       "      <td>...</td>\n",
       "      <td>0</td>\n",
       "      <td>0</td>\n",
       "      <td>0</td>\n",
       "      <td>0</td>\n",
       "      <td>0</td>\n",
       "      <td>0</td>\n",
       "      <td>0</td>\n",
       "      <td>0</td>\n",
       "      <td>0</td>\n",
       "      <td>0</td>\n",
       "    </tr>\n",
       "    <tr>\n",
       "      <th>1</th>\n",
       "      <td>262328.0</td>\n",
       "      <td>732.0</td>\n",
       "      <td>1219961.5</td>\n",
       "      <td>33295.98</td>\n",
       "      <td>21.1</td>\n",
       "      <td>8.0</td>\n",
       "      <td>35.0</td>\n",
       "      <td>0.0</td>\n",
       "      <td>229976.0</td>\n",
       "      <td>850784.0</td>\n",
       "      <td>...</td>\n",
       "      <td>0</td>\n",
       "      <td>0</td>\n",
       "      <td>0</td>\n",
       "      <td>0</td>\n",
       "      <td>0</td>\n",
       "      <td>0</td>\n",
       "      <td>0</td>\n",
       "      <td>0</td>\n",
       "      <td>0</td>\n",
       "      <td>0</td>\n",
       "    </tr>\n",
       "    <tr>\n",
       "      <th>2</th>\n",
       "      <td>789250.0</td>\n",
       "      <td>741.0</td>\n",
       "      <td>2231892.0</td>\n",
       "      <td>29200.53</td>\n",
       "      <td>14.9</td>\n",
       "      <td>29.0</td>\n",
       "      <td>18.0</td>\n",
       "      <td>1.0</td>\n",
       "      <td>297996.0</td>\n",
       "      <td>750090.0</td>\n",
       "      <td>...</td>\n",
       "      <td>0</td>\n",
       "      <td>0</td>\n",
       "      <td>0</td>\n",
       "      <td>0</td>\n",
       "      <td>0</td>\n",
       "      <td>0</td>\n",
       "      <td>0</td>\n",
       "      <td>0</td>\n",
       "      <td>0</td>\n",
       "      <td>0</td>\n",
       "    </tr>\n",
       "    <tr>\n",
       "      <th>3</th>\n",
       "      <td>347666.0</td>\n",
       "      <td>721.0</td>\n",
       "      <td>806949.0</td>\n",
       "      <td>8741.90</td>\n",
       "      <td>12.0</td>\n",
       "      <td>32.0</td>\n",
       "      <td>9.0</td>\n",
       "      <td>0.0</td>\n",
       "      <td>256329.0</td>\n",
       "      <td>386958.0</td>\n",
       "      <td>...</td>\n",
       "      <td>0</td>\n",
       "      <td>0</td>\n",
       "      <td>0</td>\n",
       "      <td>0</td>\n",
       "      <td>0</td>\n",
       "      <td>0</td>\n",
       "      <td>0</td>\n",
       "      <td>0</td>\n",
       "      <td>0</td>\n",
       "      <td>0</td>\n",
       "    </tr>\n",
       "    <tr>\n",
       "      <th>4</th>\n",
       "      <td>176220.0</td>\n",
       "      <td>732.0</td>\n",
       "      <td>1219961.5</td>\n",
       "      <td>20639.70</td>\n",
       "      <td>6.1</td>\n",
       "      <td>32.0</td>\n",
       "      <td>15.0</td>\n",
       "      <td>0.0</td>\n",
       "      <td>253460.0</td>\n",
       "      <td>427174.0</td>\n",
       "      <td>...</td>\n",
       "      <td>0</td>\n",
       "      <td>0</td>\n",
       "      <td>0</td>\n",
       "      <td>0</td>\n",
       "      <td>0</td>\n",
       "      <td>0</td>\n",
       "      <td>0</td>\n",
       "      <td>0</td>\n",
       "      <td>0</td>\n",
       "      <td>0</td>\n",
       "    </tr>\n",
       "  </tbody>\n",
       "</table>\n",
       "<p>5 rows × 42 columns</p>\n",
       "</div>"
      ],
      "text/plain": [
       "   Current Loan Amount  Credit Score  Annual Income  Monthly Debt  \\\n",
       "0             445412.0         709.0      1167493.0       5214.74   \n",
       "1             262328.0         732.0      1219961.5      33295.98   \n",
       "2             789250.0         741.0      2231892.0      29200.53   \n",
       "3             347666.0         721.0       806949.0       8741.90   \n",
       "4             176220.0         732.0      1219961.5      20639.70   \n",
       "\n",
       "   Years of Credit History  Months since last delinquent  \\\n",
       "0                     17.2                          32.0   \n",
       "1                     21.1                           8.0   \n",
       "2                     14.9                          29.0   \n",
       "3                     12.0                          32.0   \n",
       "4                      6.1                          32.0   \n",
       "\n",
       "   Number of Open Accounts  Number of Credit Problems  Current Credit Balance  \\\n",
       "0                      6.0                        1.0                228190.0   \n",
       "1                     35.0                        0.0                229976.0   \n",
       "2                     18.0                        1.0                297996.0   \n",
       "3                      9.0                        0.0                256329.0   \n",
       "4                     15.0                        0.0                253460.0   \n",
       "\n",
       "   Maximum Open Credit  ...  Purpose_Medical Bills  Purpose_Other  \\\n",
       "0             416746.0  ...                      0              0   \n",
       "1             850784.0  ...                      0              0   \n",
       "2             750090.0  ...                      0              0   \n",
       "3             386958.0  ...                      0              0   \n",
       "4             427174.0  ...                      0              0   \n",
       "\n",
       "   Purpose_Take a Trip  Purpose_major_purchase  Purpose_moving  Purpose_other  \\\n",
       "0                    0                       0               0              0   \n",
       "1                    0                       0               0              0   \n",
       "2                    0                       0               0              0   \n",
       "3                    0                       0               0              0   \n",
       "4                    0                       0               0              0   \n",
       "\n",
       "   Purpose_renewable_energy  Purpose_small_business  Purpose_vacation  \\\n",
       "0                         0                       0                 0   \n",
       "1                         0                       0                 0   \n",
       "2                         0                       0                 0   \n",
       "3                         0                       0                 0   \n",
       "4                         0                       0                 0   \n",
       "\n",
       "   Purpose_wedding  \n",
       "0                0  \n",
       "1                0  \n",
       "2                0  \n",
       "3                0  \n",
       "4                0  \n",
       "\n",
       "[5 rows x 42 columns]"
      ]
     },
     "execution_count": 10,
     "metadata": {},
     "output_type": "execute_result"
    }
   ],
   "source": [
    "df.head()"
   ]
  },
  {
   "cell_type": "markdown",
   "metadata": {},
   "source": [
    "### <font color='blue'>4.b) Spliting data in Train and Test Set <font/>"
   ]
  },
  {
   "cell_type": "code",
   "execution_count": 11,
   "metadata": {},
   "outputs": [],
   "source": [
    "x=df.drop('Loan Status_Fully Paid',axis=1)\n",
    "y=df['Loan Status_Fully Paid']\n",
    "x_train,x_test,y_train,y_test=train_test_split(x,y,stratify=y,test_size=0.3,random_state=42)"
   ]
  },
  {
   "cell_type": "code",
   "execution_count": 12,
   "metadata": {},
   "outputs": [
    {
     "name": "stdout",
     "output_type": "stream",
     "text": [
      "x_train (57395, 41)\n",
      "x_test (24599, 41)\n",
      "y_train (57395,)\n",
      "y_test (24599,)\n"
     ]
    }
   ],
   "source": [
    "print('x_train',x_train.shape)\n",
    "print('x_test',x_test.shape)\n",
    "print('y_train',y_train.shape)\n",
    "print('y_test',y_test.shape)"
   ]
  },
  {
   "cell_type": "code",
   "execution_count": 13,
   "metadata": {},
   "outputs": [],
   "source": [
    "from imblearn.over_sampling import SMOTE"
   ]
  },
  {
   "cell_type": "code",
   "execution_count": 14,
   "metadata": {},
   "outputs": [],
   "source": [
    "sm=SMOTE(random_state=42)\n",
    "\n",
    "x_res,y_res=sm.fit_resample(x,y)"
   ]
  },
  {
   "cell_type": "markdown",
   "metadata": {},
   "source": [
    "#### After applying SMOTE Over-sampling technique, both classes counts are equal."
   ]
  },
  {
   "cell_type": "code",
   "execution_count": 15,
   "metadata": {},
   "outputs": [
    {
     "name": "stdout",
     "output_type": "stream",
     "text": [
      "before_smote\n",
      "\n",
      "1    59360\n",
      "0    22634\n",
      "Name: Loan Status_Fully Paid, dtype: int64\n",
      "after smote\n",
      "\n",
      "1    59360\n",
      "0    59360\n",
      "Name: Loan Status_Fully Paid, dtype: int64\n"
     ]
    }
   ],
   "source": [
    "print('before_smote\\n')\n",
    "print(y.value_counts())\n",
    "print('after smote\\n')  \n",
    "print(y_res.value_counts())"
   ]
  },
  {
   "cell_type": "code",
   "execution_count": 16,
   "metadata": {},
   "outputs": [
    {
     "name": "stdout",
     "output_type": "stream",
     "text": [
      "Before smote\n",
      "x (81994, 41)\n",
      "After smote\n",
      "x_res (118720, 41)\n"
     ]
    }
   ],
   "source": [
    "print('Before smote')\n",
    "print('x',x.shape)\n",
    "print('After smote')\n",
    "print('x_res',x_res.shape)"
   ]
  },
  {
   "cell_type": "markdown",
   "metadata": {},
   "source": [
    "### Performing Train_Test Split in a Stratified Fashion So that Balance of data is consistent in Train and Test for both classes. "
   ]
  },
  {
   "cell_type": "code",
   "execution_count": 17,
   "metadata": {},
   "outputs": [],
   "source": [
    "x_train_res,x_test_res,y_train_res,y_test_res=train_test_split(x_res,y_res,stratify=y_res,random_state=42)"
   ]
  },
  {
   "cell_type": "code",
   "execution_count": 18,
   "metadata": {},
   "outputs": [
    {
     "ename": "NameError",
     "evalue": "name 'model4_fs2' is not defined",
     "output_type": "error",
     "traceback": [
      "\u001b[1;31m---------------------------------------------------------------------------\u001b[0m",
      "\u001b[1;31mNameError\u001b[0m                                 Traceback (most recent call last)",
      "\u001b[1;32m~\\AppData\\Local\\Temp/ipykernel_18888/4188401808.py\u001b[0m in \u001b[0;36m<module>\u001b[1;34m\u001b[0m\n\u001b[0;32m      1\u001b[0m \u001b[1;32mimport\u001b[0m \u001b[0meli5\u001b[0m\u001b[1;33m\u001b[0m\u001b[1;33m\u001b[0m\u001b[0m\n\u001b[0;32m      2\u001b[0m \u001b[1;32mfrom\u001b[0m \u001b[0meli5\u001b[0m\u001b[1;33m.\u001b[0m\u001b[0msklearn\u001b[0m \u001b[1;32mimport\u001b[0m \u001b[0mPermutationImportance\u001b[0m\u001b[1;33m\u001b[0m\u001b[1;33m\u001b[0m\u001b[0m\n\u001b[1;32m----> 3\u001b[1;33m \u001b[0mmodel4_fs2\u001b[0m\u001b[1;33m.\u001b[0m\u001b[0mfit\u001b[0m\u001b[1;33m(\u001b[0m\u001b[0mx_train_res\u001b[0m\u001b[1;33m,\u001b[0m \u001b[0my_train_res\u001b[0m\u001b[1;33m)\u001b[0m\u001b[1;33m\u001b[0m\u001b[1;33m\u001b[0m\u001b[0m\n\u001b[0m\u001b[0;32m      4\u001b[0m \u001b[0mperm\u001b[0m \u001b[1;33m=\u001b[0m \u001b[0mPermutationImportance\u001b[0m\u001b[1;33m(\u001b[0m\u001b[0mmodel4_fs2\u001b[0m\u001b[1;33m,\u001b[0m \u001b[0mrandom_state\u001b[0m\u001b[1;33m=\u001b[0m\u001b[1;36m10\u001b[0m\u001b[1;33m)\u001b[0m\u001b[1;33m.\u001b[0m\u001b[0mfit\u001b[0m\u001b[1;33m(\u001b[0m\u001b[0mx_test_res\u001b[0m\u001b[1;33m,\u001b[0m \u001b[0my_test_res\u001b[0m\u001b[1;33m)\u001b[0m\u001b[1;33m\u001b[0m\u001b[1;33m\u001b[0m\u001b[0m\n\u001b[0;32m      5\u001b[0m \u001b[0meli5\u001b[0m\u001b[1;33m.\u001b[0m\u001b[0mshow_weights\u001b[0m\u001b[1;33m(\u001b[0m\u001b[0mperm\u001b[0m\u001b[1;33m,\u001b[0m \u001b[0mfeature_names\u001b[0m \u001b[1;33m=\u001b[0m \u001b[0mx_train_res\u001b[0m\u001b[1;33m.\u001b[0m\u001b[0mcolumns\u001b[0m\u001b[1;33m.\u001b[0m\u001b[0mtolist\u001b[0m\u001b[1;33m(\u001b[0m\u001b[1;33m)\u001b[0m\u001b[1;33m)\u001b[0m\u001b[1;33m\u001b[0m\u001b[1;33m\u001b[0m\u001b[0m\n",
      "\u001b[1;31mNameError\u001b[0m: name 'model4_fs2' is not defined"
     ]
    }
   ],
   "source": [
    "import eli5\n",
    "from eli5.sklearn import PermutationImportance\n",
    "model4_fs2.fit(x_train_res, y_train_res)\n",
    "perm = PermutationImportance(model4_fs2, random_state=10).fit(x_test_res, y_test_res)\n",
    "eli5.show_weights(perm, feature_names = x_train_res.columns.tolist())"
   ]
  },
  {
   "cell_type": "code",
   "execution_count": null,
   "metadata": {},
   "outputs": [],
   "source": [
    "model4_fs3=DecisionTreeClassifier(random_state=10)\n",
    "model4_fs3.fit(x_train_res,y_train_res)"
   ]
  },
  {
   "cell_type": "code",
   "execution_count": null,
   "metadata": {},
   "outputs": [],
   "source": [
    "list(zip(x_train_res.columns,model4_fs3.feature_importances_))"
   ]
  },
  {
   "cell_type": "code",
   "execution_count": null,
   "metadata": {},
   "outputs": [],
   "source": [
    "d=pd.DataFrame({'features':x_train_res.columns,'feature_importance':model4_fs3.feature_importances_})\n",
    "d"
   ]
  },
  {
   "cell_type": "code",
   "execution_count": null,
   "metadata": {},
   "outputs": [],
   "source": [
    "s1=set(d.sort_values(by='feature_importance',ascending=False).iloc[:6,:]['features'])\n",
    "s2=set(['Annual Income','Current Loan Amount','Monthly Debt','Maximum Open Credit'])\n",
    "important_features=s1.union(s2)"
   ]
  },
  {
   "cell_type": "code",
   "execution_count": null,
   "metadata": {},
   "outputs": [],
   "source": [
    "imp_features=list(important_features)\n",
    "imp_features"
   ]
  },
  {
   "cell_type": "markdown",
   "metadata": {},
   "source": [
    "### <font color='blue'>4.c.4)Logistic Regression Model with balanced data and important features<font/>"
   ]
  },
  {
   "cell_type": "code",
   "execution_count": null,
   "metadata": {},
   "outputs": [],
   "source": [
    "x_train_imp=x_train_res[imp_features]\n",
    "x_test_imp=x_test_res[imp_features]\n",
    "\n",
    "model4=LogisticRegression(random_state=10)\n",
    "\n",
    "model4.fit(x_train_imp,y_train_res)\n",
    "\n",
    "y_pred_logit_imp_feature=model4.predict(x_test_imp)"
   ]
  },
  {
   "cell_type": "code",
   "execution_count": null,
   "metadata": {},
   "outputs": [],
   "source": [
    "print('training accuracy',model4.score(x_train_imp,y_train_res))\n",
    "print('testing accuracy',model4.score(x_test_imp,y_test_res))"
   ]
  },
  {
   "cell_type": "code",
   "execution_count": null,
   "metadata": {},
   "outputs": [],
   "source": [
    "confusion_matrix(y_test_res,y_pred_logit_imp_feature)"
   ]
  },
  {
   "cell_type": "code",
   "execution_count": null,
   "metadata": {},
   "outputs": [],
   "source": [
    "print(plot_confusion_matrix(estimator=model4,X=x_test_imp,y_true=y_test_res,\n",
    "                            cmap=\"YlGnBu\",colorbar=False,display_labels=['Charged off','fully paid']))\n",
    "plt.title('Confussion matrix for testing data',size=15)\n",
    "plt.show()"
   ]
  },
  {
   "cell_type": "code",
   "execution_count": null,
   "metadata": {},
   "outputs": [],
   "source": [
    "print(classification_report(y_test_res,y_pred_logit_imp_feature))"
   ]
  },
  {
   "cell_type": "code",
   "execution_count": null,
   "metadata": {},
   "outputs": [],
   "source": [
    "model4_roc_auc=roc_auc_score(y_test_res,model4.predict_proba(x_test_imp)[:,1])\n",
    "model4_roc_auc"
   ]
  },
  {
   "cell_type": "code",
   "execution_count": null,
   "metadata": {},
   "outputs": [],
   "source": [
    "model_4_test_accuracy=model4.score(x_test_imp,y_test_res)\n",
    "model_4_test_accuracy"
   ]
  },
  {
   "cell_type": "code",
   "execution_count": null,
   "metadata": {},
   "outputs": [],
   "source": [
    "model_performance=model_performance.append(pd.DataFrame({'Model':['Logistic model with imp_features(balanced_data)'],'accuracy':[model_4_test_accuracy],'roc_auc':[model4_roc_auc]}),ignore_index=True)"
   ]
  },
  {
   "cell_type": "code",
   "execution_count": null,
   "metadata": {},
   "outputs": [],
   "source": [
    "model_performance"
   ]
  },
  {
   "cell_type": "markdown",
   "metadata": {},
   "source": [
    "### <font color='blue'>4.d) Decision tree classifier<font/>"
   ]
  },
  {
   "cell_type": "markdown",
   "metadata": {},
   "source": [
    "### <font color='blue'>4.d.1) Decision Tree Full model with balanced data<font/>"
   ]
  },
  {
   "cell_type": "code",
   "execution_count": null,
   "metadata": {},
   "outputs": [],
   "source": [
    "model5=DecisionTreeClassifier(random_state=10)\n",
    "model5.fit(x_train_res,y_train_res)\n",
    "y_pred_dt_full_model_balance_data=model5.predict(x_test_res)"
   ]
  },
  {
   "cell_type": "code",
   "execution_count": null,
   "metadata": {},
   "outputs": [],
   "source": [
    "print('training accuracy',model5.score(x_train_res,y_train_res))\n",
    "print('testing accuracy',model5.score(x_test_res,y_test_res))"
   ]
  },
  {
   "cell_type": "code",
   "execution_count": null,
   "metadata": {},
   "outputs": [],
   "source": [
    "model5_test_accuracy=model5.score(x_test_res,y_test_res)\n",
    "model5_test_accuracy"
   ]
  },
  {
   "cell_type": "code",
   "execution_count": null,
   "metadata": {},
   "outputs": [],
   "source": [
    "confusion_matrix(y_test_res,y_pred_dt_full_model_balance_data)"
   ]
  },
  {
   "cell_type": "code",
   "execution_count": null,
   "metadata": {},
   "outputs": [],
   "source": [
    "print(plot_confusion_matrix(estimator=model5,X=x_test_res,y_true=y_test_res,\n",
    "                            cmap=\"YlGnBu\",colorbar=False,display_labels=['Charged off','fully paid']))\n",
    "plt.title('Confussion matrix for testing data',size=15)\n",
    "plt.show()"
   ]
  },
  {
   "cell_type": "code",
   "execution_count": null,
   "metadata": {},
   "outputs": [],
   "source": [
    "print(classification_report(y_test_res,y_pred_dt_full_model_balance_data))"
   ]
  },
  {
   "cell_type": "code",
   "execution_count": null,
   "metadata": {},
   "outputs": [],
   "source": [
    "model5_roc_auc=roc_auc_score(y_test_res,model5.predict_proba(x_test_res)[:,1])\n",
    "model5_roc_auc"
   ]
  },
  {
   "cell_type": "code",
   "execution_count": null,
   "metadata": {},
   "outputs": [],
   "source": [
    "model_performance=model_performance.append(pd.DataFrame({'Model':['Decision Tree full model(balanced_data)'],'accuracy':[model5_test_accuracy],'roc_auc':[model5_roc_auc]}),ignore_index=True)"
   ]
  },
  {
   "cell_type": "code",
   "execution_count": null,
   "metadata": {},
   "outputs": [],
   "source": [
    "model_performance"
   ]
  },
  {
   "cell_type": "markdown",
   "metadata": {},
   "source": [
    "### <font color='blue'>4.d.1)Decision Tree with selected features and balanced data<font/>"
   ]
  },
  {
   "cell_type": "code",
   "execution_count": null,
   "metadata": {},
   "outputs": [],
   "source": [
    "x_train_imp=x_train_res[imp_features]\n",
    "x_test_imp=x_test_res[imp_features]\n",
    "\n",
    "model6=DecisionTreeClassifier(random_state=10)\n",
    "\n",
    "model6.fit(x_train_imp,y_train_res)\n",
    "\n",
    "y_pred_dt_imp_feature=model6.predict(x_test_imp)"
   ]
  },
  {
   "cell_type": "code",
   "execution_count": null,
   "metadata": {},
   "outputs": [],
   "source": [
    "print('training accuracy',model6.score(x_train_imp,y_train_res))\n",
    "print('testing accuracy',model6.score(x_test_imp,y_test_res))"
   ]
  },
  {
   "cell_type": "code",
   "execution_count": null,
   "metadata": {},
   "outputs": [],
   "source": [
    "model6_test_accuracy=model6.score(x_test_imp,y_test_res)\n",
    "model6_test_accuracy"
   ]
  },
  {
   "cell_type": "code",
   "execution_count": null,
   "metadata": {},
   "outputs": [],
   "source": [
    "confusion_matrix(y_test_res,y_pred_dt_imp_feature)"
   ]
  },
  {
   "cell_type": "code",
   "execution_count": null,
   "metadata": {},
   "outputs": [],
   "source": [
    "print(plot_confusion_matrix(estimator=model6,X=x_test_imp,y_true=y_test_res,\n",
    "                            cmap=\"YlGnBu\",colorbar=False,display_labels=['Charged off','fully paid']))\n",
    "plt.title('Confussion matrix for testing data',size=15)\n",
    "plt.show()"
   ]
  },
  {
   "cell_type": "code",
   "execution_count": null,
   "metadata": {},
   "outputs": [],
   "source": [
    "print(classification_report(y_test_res,y_pred_dt_imp_feature))"
   ]
  },
  {
   "cell_type": "code",
   "execution_count": null,
   "metadata": {},
   "outputs": [],
   "source": [
    "model6_roc_auc=roc_auc_score(y_test_res,model6.predict_proba(x_test_imp)[:,1])\n",
    "model6_roc_auc"
   ]
  },
  {
   "cell_type": "code",
   "execution_count": null,
   "metadata": {},
   "outputs": [],
   "source": [
    "model_performance=model_performance.append(pd.DataFrame({'Model':['Decision Tree with important features(balanced_data)'],'accuracy':[model6_test_accuracy],'roc_auc':[model6_roc_auc]}),ignore_index=True)"
   ]
  },
  {
   "cell_type": "code",
   "execution_count": null,
   "metadata": {},
   "outputs": [],
   "source": [
    "model_performance"
   ]
  },
  {
   "cell_type": "markdown",
   "metadata": {},
   "source": [
    "### <font color='blue'>4.d) Random Forest classifier<font/>"
   ]
  },
  {
   "cell_type": "markdown",
   "metadata": {},
   "source": [
    "### <font color='blue'>4.d.1) Random Forest Full model with balanced data<font/>"
   ]
  },
  {
   "cell_type": "code",
   "execution_count": null,
   "metadata": {},
   "outputs": [],
   "source": [
    "model7=RandomForestClassifier(random_state=10)\n",
    "model7.fit(x_train_res,y_train_res)\n",
    "y_pred_rf_full_model_balance_data=model7.predict(x_test_res)"
   ]
  },
  {
   "cell_type": "code",
   "execution_count": null,
   "metadata": {},
   "outputs": [],
   "source": [
    "print('training accuracy',model7.score(x_train_res,y_train_res))\n",
    "print('testing accuracy',model7.score(x_test_res,y_test_res))"
   ]
  },
  {
   "cell_type": "code",
   "execution_count": null,
   "metadata": {},
   "outputs": [],
   "source": [
    "model7_test_accuracy=model7.score(x_test_res,y_test_res)\n",
    "model7_test_accuracy"
   ]
  },
  {
   "cell_type": "code",
   "execution_count": null,
   "metadata": {},
   "outputs": [],
   "source": [
    "confusion_matrix(y_test_res,y_pred_rf_full_model_balance_data)"
   ]
  },
  {
   "cell_type": "code",
   "execution_count": null,
   "metadata": {},
   "outputs": [],
   "source": [
    "print(plot_confusion_matrix(estimator=model7,X=x_test_res,y_true=y_test_res,\n",
    "                            cmap=\"YlGnBu\",colorbar=False,display_labels=['Charged off','fully paid']))\n",
    "plt.title('Confussion matrix for testing data',size=15)\n",
    "plt.show()"
   ]
  },
  {
   "cell_type": "code",
   "execution_count": null,
   "metadata": {},
   "outputs": [],
   "source": [
    "print(classification_report(y_test_res,y_pred_rf_full_model_balance_data))"
   ]
  },
  {
   "cell_type": "code",
   "execution_count": null,
   "metadata": {},
   "outputs": [],
   "source": [
    "model7_roc_auc=roc_auc_score(y_test_res,model7.predict_proba(x_test_res)[:,1])\n",
    "model7_roc_auc"
   ]
  },
  {
   "cell_type": "code",
   "execution_count": null,
   "metadata": {},
   "outputs": [],
   "source": [
    "model_performance=model_performance.append(pd.DataFrame({'Model':['Random Forest full model(balanced_data)'],'accuracy':[model7_test_accuracy],'roc_auc':[model7_roc_auc]}),ignore_index=True)"
   ]
  },
  {
   "cell_type": "code",
   "execution_count": null,
   "metadata": {},
   "outputs": [],
   "source": [
    "model_performance"
   ]
  },
  {
   "cell_type": "markdown",
   "metadata": {},
   "source": [
    "### <font color='blue'>4.d.1)Random Forest with selected features and balanced data<font/>"
   ]
  },
  {
   "cell_type": "code",
   "execution_count": null,
   "metadata": {},
   "outputs": [],
   "source": [
    "x_train_imp=x_train_res[imp_features]\n",
    "x_test_imp=x_test_res[imp_features]\n",
    "\n",
    "model8=RandomForestClassifier(random_state=10)\n",
    "\n",
    "model8.fit(x_train_imp,y_train_res)\n",
    "\n",
    "y_pred_rf_imp_feature=model8.predict(x_test_imp)"
   ]
  },
  {
   "cell_type": "code",
   "execution_count": null,
   "metadata": {},
   "outputs": [],
   "source": [
    "print('training accuracy',model8.score(x_train_imp,y_train_res))\n",
    "print('testing accuracy',model8.score(x_test_imp,y_test_res))"
   ]
  },
  {
   "cell_type": "code",
   "execution_count": null,
   "metadata": {},
   "outputs": [],
   "source": [
    "model8_test_accuracy=model8.score(x_test_imp,y_test_res)\n",
    "model8_test_accuracy"
   ]
  },
  {
   "cell_type": "code",
   "execution_count": null,
   "metadata": {},
   "outputs": [],
   "source": [
    "confusion_matrix(y_test_res,y_pred_rf_imp_feature)"
   ]
  },
  {
   "cell_type": "code",
   "execution_count": null,
   "metadata": {},
   "outputs": [],
   "source": [
    "print(plot_confusion_matrix(estimator=model8,X=x_test_imp,y_true=y_test_res,\n",
    "                            cmap=\"YlGnBu\",colorbar=False,display_labels=['Charged off','fully paid']))\n",
    "plt.title('Confussion matrix for testing data',size=15)\n",
    "plt.show()"
   ]
  },
  {
   "cell_type": "code",
   "execution_count": null,
   "metadata": {},
   "outputs": [],
   "source": [
    "print(classification_report(y_test_res,y_pred_rf_imp_feature))"
   ]
  },
  {
   "cell_type": "code",
   "execution_count": null,
   "metadata": {},
   "outputs": [],
   "source": [
    "model8_roc_auc=roc_auc_score(y_test_res,model8.predict_proba(x_test_imp)[:,1])\n",
    "model8_roc_auc"
   ]
  },
  {
   "cell_type": "code",
   "execution_count": null,
   "metadata": {},
   "outputs": [],
   "source": [
    "model_performance=model_performance.append(pd.DataFrame({'Model':['Random Forest with important feature(balanced_data)'],'accuracy':[model8_test_accuracy],'roc_auc':[model8_roc_auc]}),ignore_index=True)"
   ]
  },
  {
   "cell_type": "code",
   "execution_count": null,
   "metadata": {},
   "outputs": [],
   "source": [
    "model_performance"
   ]
  },
  {
   "cell_type": "markdown",
   "metadata": {},
   "source": [
    "### <font color='blue'>4.d) K-Nearest Neighbors classifier<font/>"
   ]
  },
  {
   "cell_type": "markdown",
   "metadata": {},
   "source": [
    "### <font color='blue'>4.d.1) KNN Full model with balanced data<font/>"
   ]
  },
  {
   "cell_type": "code",
   "execution_count": null,
   "metadata": {},
   "outputs": [],
   "source": [
    "model9=KNeighborsClassifier()\n",
    "model9.fit(x_train_res,y_train_res)\n",
    "y_pred_knn_full_model_balance_data=model9.predict(x_test_res)"
   ]
  },
  {
   "cell_type": "code",
   "execution_count": null,
   "metadata": {},
   "outputs": [],
   "source": [
    "print('training accuracy',model9.score(x_train_res,y_train_res))\n",
    "print('testing accuracy',model9.score(x_test_res,y_test_res))"
   ]
  },
  {
   "cell_type": "code",
   "execution_count": null,
   "metadata": {},
   "outputs": [],
   "source": [
    "model9_test_accuracy=model9.score(x_test_res,y_test_res)\n",
    "model9_test_accuracy"
   ]
  },
  {
   "cell_type": "code",
   "execution_count": null,
   "metadata": {},
   "outputs": [],
   "source": []
  },
  {
   "cell_type": "code",
   "execution_count": null,
   "metadata": {},
   "outputs": [],
   "source": [
    "confusion_matrix(y_test_res,y_pred_knn_full_model_balance_data)"
   ]
  },
  {
   "cell_type": "code",
   "execution_count": null,
   "metadata": {},
   "outputs": [],
   "source": [
    "print(plot_confusion_matrix(estimator=model9,X=x_test_res,y_true=y_test_res,\n",
    "                            cmap=\"YlGnBu\",colorbar=False,display_labels=['Charged off','fully paid']))\n",
    "plt.title('Confussion matrix for testing data',size=15)\n",
    "plt.show()"
   ]
  },
  {
   "cell_type": "code",
   "execution_count": null,
   "metadata": {},
   "outputs": [],
   "source": [
    "print(classification_report(y_test_res,y_pred_knn_full_model_balance_data))"
   ]
  },
  {
   "cell_type": "code",
   "execution_count": null,
   "metadata": {},
   "outputs": [],
   "source": [
    "model9_roc_auc=roc_auc_score(y_test_res,model9.predict_proba(x_test_res)[:,1])\n",
    "model9_roc_auc"
   ]
  },
  {
   "cell_type": "code",
   "execution_count": null,
   "metadata": {},
   "outputs": [],
   "source": [
    "model_performance=model_performance.append(pd.DataFrame({'Model':['KNN full model(balanced_data)'],'accuracy':[model9_test_accuracy],'roc_auc':[model9_roc_auc]}),ignore_index=True)"
   ]
  },
  {
   "cell_type": "code",
   "execution_count": null,
   "metadata": {},
   "outputs": [],
   "source": [
    "model_performance"
   ]
  },
  {
   "cell_type": "markdown",
   "metadata": {},
   "source": [
    "### <font color='blue'>4.d.1)KNN with selected features and balanced data<font/>"
   ]
  },
  {
   "cell_type": "code",
   "execution_count": null,
   "metadata": {},
   "outputs": [],
   "source": [
    "x_train_imp=x_train_res[imp_features]\n",
    "x_test_imp=x_test_res[imp_features]\n",
    "\n",
    "model10=RandomForestClassifier(random_state=10)\n",
    "\n",
    "model10.fit(x_train_imp,y_train_res)\n",
    "\n",
    "y_pred_knn_imp_feature=model8.predict(x_test_imp)"
   ]
  },
  {
   "cell_type": "code",
   "execution_count": null,
   "metadata": {},
   "outputs": [],
   "source": [
    "print('training accuracy',model10.score(x_train_imp,y_train_res))\n",
    "print('testing accuracy',model10.score(x_test_imp,y_test_res))"
   ]
  },
  {
   "cell_type": "code",
   "execution_count": null,
   "metadata": {},
   "outputs": [],
   "source": [
    "model10_test_accuracy=model10.score(x_test_imp,y_test_res)\n",
    "model10_test_accuracy"
   ]
  },
  {
   "cell_type": "code",
   "execution_count": null,
   "metadata": {},
   "outputs": [],
   "source": [
    "confusion_matrix(y_test_res,y_pred_knn_imp_feature)"
   ]
  },
  {
   "cell_type": "code",
   "execution_count": null,
   "metadata": {},
   "outputs": [],
   "source": [
    "print(plot_confusion_matrix(estimator=model10,X=x_test_imp,y_true=y_test_res,\n",
    "                            cmap=\"YlGnBu\",colorbar=False,display_labels=['Charged off','fully paid']))\n",
    "plt.title('Confussion matrix for testing data',size=15)\n",
    "plt.show()"
   ]
  },
  {
   "cell_type": "code",
   "execution_count": null,
   "metadata": {},
   "outputs": [],
   "source": [
    "print(classification_report(y_test_res,y_pred_knn_imp_feature))"
   ]
  },
  {
   "cell_type": "code",
   "execution_count": null,
   "metadata": {},
   "outputs": [],
   "source": [
    "model10_roc_auc=roc_auc_score(y_test_res,model10.predict_proba(x_test_imp)[:,1])\n",
    "model10_roc_auc"
   ]
  },
  {
   "cell_type": "code",
   "execution_count": null,
   "metadata": {},
   "outputs": [],
   "source": [
    "model_performance=model_performance.append(pd.DataFrame({'Model':['KNN with important feature(balanced_data)'],'accuracy':[model10_test_accuracy],'roc_auc':[model10_roc_auc]}),ignore_index=True)"
   ]
  },
  {
   "cell_type": "code",
   "execution_count": null,
   "metadata": {},
   "outputs": [],
   "source": [
    "model_performance"
   ]
  },
  {
   "cell_type": "markdown",
   "metadata": {},
   "source": [
    "### <font color='blue'>4.d) Gaussian Naive Bayes classifier<font/>"
   ]
  },
  {
   "cell_type": "markdown",
   "metadata": {},
   "source": [
    "### <font color='blue'>4.d.1) Gaussian NB Full model with balanced data<font/>"
   ]
  },
  {
   "cell_type": "code",
   "execution_count": null,
   "metadata": {},
   "outputs": [],
   "source": [
    "model11=GaussianNB()\n",
    "model11.fit(x_train_res,y_train_res)\n",
    "y_pred_gnb_full_model_balance_data=model11.predict(x_test_res)"
   ]
  },
  {
   "cell_type": "code",
   "execution_count": null,
   "metadata": {},
   "outputs": [],
   "source": [
    "print('training accuracy',model11.score(x_train_res,y_train_res))\n",
    "print('testing accuracy',model11.score(x_test_res,y_test_res))"
   ]
  },
  {
   "cell_type": "code",
   "execution_count": null,
   "metadata": {},
   "outputs": [],
   "source": [
    "model11_test_accuracy=model11.score(x_test_res,y_test_res)\n",
    "model11_test_accuracy"
   ]
  },
  {
   "cell_type": "code",
   "execution_count": null,
   "metadata": {},
   "outputs": [],
   "source": [
    "confusion_matrix(y_test_res,y_pred_gnb_full_model_balance_data)"
   ]
  },
  {
   "cell_type": "code",
   "execution_count": null,
   "metadata": {},
   "outputs": [],
   "source": [
    "print(plot_confusion_matrix(estimator=model11,X=x_test_res,y_true=y_test_res,\n",
    "                            cmap=\"YlGnBu\",colorbar=False,display_labels=['Charged off','fully paid']))\n",
    "plt.title('Confussion matrix for testing data',size=15)\n",
    "plt.show()"
   ]
  },
  {
   "cell_type": "code",
   "execution_count": null,
   "metadata": {},
   "outputs": [],
   "source": [
    "print(classification_report(y_test_res,y_pred_gnb_full_model_balance_data))"
   ]
  },
  {
   "cell_type": "code",
   "execution_count": null,
   "metadata": {},
   "outputs": [],
   "source": [
    "model11_roc_auc=roc_auc_score(y_test_res,model11.predict_proba(x_test_res)[:,1])\n",
    "model11_roc_auc"
   ]
  },
  {
   "cell_type": "code",
   "execution_count": null,
   "metadata": {},
   "outputs": [],
   "source": [
    "model_performance=model_performance.append(pd.DataFrame({'Model':['Gaussian NB full model(balanced_data)'],'accuracy':[model11_test_accuracy],'roc_auc':[model11_roc_auc]}),ignore_index=True)"
   ]
  },
  {
   "cell_type": "code",
   "execution_count": null,
   "metadata": {},
   "outputs": [],
   "source": [
    "model_performance"
   ]
  },
  {
   "cell_type": "markdown",
   "metadata": {},
   "source": [
    "### <font color='blue'>4.d.1)Gaussian Naive Bayes with selected features and balanced data<font/>"
   ]
  },
  {
   "cell_type": "code",
   "execution_count": null,
   "metadata": {},
   "outputs": [],
   "source": [
    "x_train_imp=x_train_res[imp_features]\n",
    "x_test_imp=x_test_res[imp_features]\n",
    "\n",
    "model12=GaussianNB()\n",
    "\n",
    "model12.fit(x_train_imp,y_train_res)\n",
    "\n",
    "y_pred_gnb_imp_feature=model8.predict(x_test_imp)"
   ]
  },
  {
   "cell_type": "code",
   "execution_count": null,
   "metadata": {},
   "outputs": [],
   "source": [
    "print('training accuracy',model12.score(x_train_imp,y_train_res))\n",
    "print('testing accuracy',model12.score(x_test_imp,y_test_res))"
   ]
  },
  {
   "cell_type": "code",
   "execution_count": null,
   "metadata": {},
   "outputs": [],
   "source": [
    "model12_test_accuracy=model12.score(x_test_imp,y_test_res)\n",
    "model12_test_accuracy"
   ]
  },
  {
   "cell_type": "code",
   "execution_count": null,
   "metadata": {},
   "outputs": [],
   "source": [
    "confusion_matrix(y_test_res,y_pred_gnb_imp_feature)"
   ]
  },
  {
   "cell_type": "code",
   "execution_count": null,
   "metadata": {},
   "outputs": [],
   "source": [
    "print(plot_confusion_matrix(estimator=model12,X=x_test_imp,y_true=y_test_res,\n",
    "                            cmap=\"YlGnBu\",colorbar=False,display_labels=['Charged off','fully paid']))\n",
    "plt.title('Confussion matrix for testing data',size=15)\n",
    "plt.show()"
   ]
  },
  {
   "cell_type": "code",
   "execution_count": null,
   "metadata": {},
   "outputs": [],
   "source": [
    "print(classification_report(y_test_res,y_pred_gnb_imp_feature))"
   ]
  },
  {
   "cell_type": "code",
   "execution_count": null,
   "metadata": {},
   "outputs": [],
   "source": [
    "model12_roc_acuc=roc_auc_score(y_test_res,model12.predict_proba(x_test_imp)[:,1])\n",
    "model12_roc_acuc"
   ]
  },
  {
   "cell_type": "code",
   "execution_count": null,
   "metadata": {},
   "outputs": [],
   "source": [
    "model_performance=model_performance.append(pd.DataFrame({'Model':['Gaussian NB with important feature(balanced_data)'],'accuracy':[model12_test_accuracy],'roc_auc':[model12_roc_acuc]}),ignore_index=True)"
   ]
  },
  {
   "cell_type": "code",
   "execution_count": null,
   "metadata": {},
   "outputs": [],
   "source": [
    "model_performance"
   ]
  },
  {
   "cell_type": "markdown",
   "metadata": {},
   "source": [
    "### <font color='blue'>4.d) Multinomial Naive Bayes classifier<font/>"
   ]
  },
  {
   "cell_type": "markdown",
   "metadata": {},
   "source": [
    "### <font color='blue'>4.d.1) Multinomial NB Full model with balanced data<font/>"
   ]
  },
  {
   "cell_type": "code",
   "execution_count": null,
   "metadata": {},
   "outputs": [],
   "source": [
    "model13=MultinomialNB()\n",
    "model13.fit(x_train_res,y_train_res)\n",
    "y_pred_mnb_full_model_balance_data=model13.predict(x_test_res)"
   ]
  },
  {
   "cell_type": "code",
   "execution_count": null,
   "metadata": {},
   "outputs": [],
   "source": [
    "print('training accuracy',model13.score(x_train_res,y_train_res))\n",
    "print('testing accuracy',model13.score(x_test_res,y_test_res))"
   ]
  },
  {
   "cell_type": "code",
   "execution_count": null,
   "metadata": {},
   "outputs": [],
   "source": [
    "model13_test_accuracy=model13.score(x_test_res,y_test_res)\n",
    "model13_test_accuracy"
   ]
  },
  {
   "cell_type": "code",
   "execution_count": null,
   "metadata": {},
   "outputs": [],
   "source": [
    "confusion_matrix(y_test_res,y_pred_mnb_full_model_balance_data)"
   ]
  },
  {
   "cell_type": "code",
   "execution_count": null,
   "metadata": {},
   "outputs": [],
   "source": [
    "print(plot_confusion_matrix(estimator=model13,X=x_test_res,y_true=y_test_res,\n",
    "                            cmap=\"YlGnBu\",colorbar=False,display_labels=['Charged off','fully paid']))\n",
    "plt.title('Confussion matrix for testing data',size=15)\n",
    "plt.show()"
   ]
  },
  {
   "cell_type": "code",
   "execution_count": null,
   "metadata": {},
   "outputs": [],
   "source": [
    "print(classification_report(y_test_res,y_pred_mnb_full_model_balance_data))"
   ]
  },
  {
   "cell_type": "code",
   "execution_count": null,
   "metadata": {},
   "outputs": [],
   "source": [
    "model13_roc_auc=roc_auc_score(y_test_res,model13.predict_proba(x_test_res)[:,1])\n",
    "model13_roc_auc"
   ]
  },
  {
   "cell_type": "code",
   "execution_count": null,
   "metadata": {},
   "outputs": [],
   "source": [
    "model_performance=model_performance.append(pd.DataFrame({'Model':['Multinomial NB full model(balanced_data)'],'accuracy':[model13_test_accuracy],'roc_auc':[model13_roc_auc]}),ignore_index=True)"
   ]
  },
  {
   "cell_type": "code",
   "execution_count": null,
   "metadata": {},
   "outputs": [],
   "source": [
    "model_performance"
   ]
  },
  {
   "cell_type": "markdown",
   "metadata": {},
   "source": [
    "### <font color='blue'>4.d.1)Multinomial Naive Bayes with selected features and balanced data<font/>"
   ]
  },
  {
   "cell_type": "code",
   "execution_count": null,
   "metadata": {},
   "outputs": [],
   "source": [
    "x_train_imp=x_train_res[imp_features]\n",
    "x_test_imp=x_test_res[imp_features]\n",
    "\n",
    "model14=MultinomialNB()\n",
    "\n",
    "model14.fit(x_train_imp,y_train_res)\n",
    "\n",
    "y_pred_mnb_imp_feature=model14.predict(x_test_imp)"
   ]
  },
  {
   "cell_type": "code",
   "execution_count": null,
   "metadata": {},
   "outputs": [],
   "source": [
    "print('training accuracy',model14.score(x_train_imp,y_train_res))\n",
    "print('testing accuracy',model14.score(x_test_imp,y_test_res))"
   ]
  },
  {
   "cell_type": "code",
   "execution_count": null,
   "metadata": {},
   "outputs": [],
   "source": [
    "model14_test_accuracy=model14.score(x_test_imp,y_test_res)\n",
    "model14_test_accuracy"
   ]
  },
  {
   "cell_type": "code",
   "execution_count": null,
   "metadata": {},
   "outputs": [],
   "source": [
    "confusion_matrix(y_test_res,y_pred_mnb_imp_feature)"
   ]
  },
  {
   "cell_type": "code",
   "execution_count": null,
   "metadata": {},
   "outputs": [],
   "source": [
    "print(plot_confusion_matrix(estimator=model14,X=x_test_imp,y_true=y_test_res,\n",
    "                            cmap=\"YlGnBu\",colorbar=False,display_labels=['Charged off','fully paid']))\n",
    "plt.title('Confussion matrix for testing data',size=15)\n",
    "plt.show()"
   ]
  },
  {
   "cell_type": "code",
   "execution_count": null,
   "metadata": {},
   "outputs": [],
   "source": [
    "print(classification_report(y_test_res,y_pred_mnb_imp_feature))"
   ]
  },
  {
   "cell_type": "code",
   "execution_count": null,
   "metadata": {},
   "outputs": [],
   "source": [
    "model14_roc_auc=roc_auc_score(y_test_res,model14.predict_proba(x_test_imp)[:,1])\n",
    "model14_roc_auc"
   ]
  },
  {
   "cell_type": "code",
   "execution_count": null,
   "metadata": {},
   "outputs": [],
   "source": [
    "model_performance=model_performance.append(pd.DataFrame({'Model':['Multinomial NB with important feature(balanced_data)'],'accuracy':[model14_test_accuracy],'roc_auc':[model14_roc_auc]}),ignore_index=True)"
   ]
  },
  {
   "cell_type": "code",
   "execution_count": null,
   "metadata": {},
   "outputs": [],
   "source": [
    "model_performance"
   ]
  },
  {
   "cell_type": "code",
   "execution_count": null,
   "metadata": {},
   "outputs": [],
   "source": []
  },
  {
   "cell_type": "markdown",
   "metadata": {},
   "source": [
    "### <font color='blue'>4.d.1)Bagged classifier<font/>"
   ]
  },
  {
   "cell_type": "code",
   "execution_count": null,
   "metadata": {},
   "outputs": [],
   "source": [
    "from sklearn.svm import SVC\n",
    "from sklearn.ensemble import BaggingClassifier"
   ]
  },
  {
   "cell_type": "code",
   "execution_count": null,
   "metadata": {},
   "outputs": [],
   "source": [
    "lr=LogisticRegression(random_state=10)\n",
    "knn=KNeighborsClassifier()\n",
    "svc=SVC(random_state=10)\n",
    "g_nb=GaussianNB()\n",
    "m_nb=MultinomialNB()\n",
    "\n",
    "\n",
    "\n"
   ]
  },
  {
   "cell_type": "code",
   "execution_count": null,
   "metadata": {},
   "outputs": [],
   "source": [
    "bagged_lr=BaggingClassifier(base_estimator=lr,random_state=10)\n",
    "bagged_lr.fit(x_train_res,y_train_res)\n",
    "y_pred_bagged_lr=bagged_lr.predict(x_test_res)"
   ]
  },
  {
   "cell_type": "code",
   "execution_count": null,
   "metadata": {},
   "outputs": [],
   "source": [
    "print('training accuracy',bagged_lr.score(x_train_res,y_train_res))\n",
    "print('testing accuracy',bagged_lr.score(x_test_res,y_test_res))"
   ]
  },
  {
   "cell_type": "code",
   "execution_count": null,
   "metadata": {},
   "outputs": [],
   "source": [
    "bagged_lr_test_accuracy=bagged_lr.score(x_test_res,y_test_res)\n",
    "bagged_lr_test_accuracy"
   ]
  },
  {
   "cell_type": "code",
   "execution_count": null,
   "metadata": {},
   "outputs": [],
   "source": [
    "confusion_matrix(y_test_res,y_pred_bagged_lr)"
   ]
  },
  {
   "cell_type": "code",
   "execution_count": null,
   "metadata": {},
   "outputs": [],
   "source": [
    "print(plot_confusion_matrix(estimator=bagged_lr,X=x_test_res,y_true=y_test_res,\n",
    "                            cmap=\"YlGnBu\",colorbar=False,display_labels=['Charged off','fully paid']))\n",
    "plt.title('Confussion matrix for testing data',size=15)\n",
    "plt.show()"
   ]
  },
  {
   "cell_type": "code",
   "execution_count": null,
   "metadata": {},
   "outputs": [],
   "source": [
    "print(classification_report(y_test_res,y_pred_bagged_lr))"
   ]
  },
  {
   "cell_type": "code",
   "execution_count": null,
   "metadata": {},
   "outputs": [],
   "source": [
    "bagged_lr_roc_auc=roc_auc_score(y_test_res,bagged_lr.predict_proba(x_test_res)[:,1])\n",
    "bagged_lr_roc_auc"
   ]
  },
  {
   "cell_type": "code",
   "execution_count": null,
   "metadata": {},
   "outputs": [],
   "source": [
    "model_performance=model_performance.append(pd.DataFrame({'Model':['Bagged_lr'],'accuracy':[bagged_lr_test_accuracy],'roc_auc':[bagged_lr_roc_auc]}),ignore_index=True)"
   ]
  },
  {
   "cell_type": "code",
   "execution_count": null,
   "metadata": {},
   "outputs": [],
   "source": []
  },
  {
   "cell_type": "code",
   "execution_count": null,
   "metadata": {},
   "outputs": [],
   "source": [
    "model_performance"
   ]
  },
  {
   "cell_type": "markdown",
   "metadata": {},
   "source": [
    "### Bagged_knn"
   ]
  },
  {
   "cell_type": "code",
   "execution_count": null,
   "metadata": {},
   "outputs": [],
   "source": [
    "bagged_knn=BaggingClassifier(base_estimator=knn,random_state=10)\n",
    "bagged_knn.fit(x_train_res,y_train_res)\n",
    "y_pred_bagged_knn=bagged_knn.predict(x_test_res)"
   ]
  },
  {
   "cell_type": "code",
   "execution_count": null,
   "metadata": {},
   "outputs": [],
   "source": [
    "print('training accuracy',bagged_knn.score(x_train_res,y_train_res))\n",
    "print('testing accuracy',bagged_knn.score(x_test_res,y_test_res))"
   ]
  },
  {
   "cell_type": "code",
   "execution_count": null,
   "metadata": {},
   "outputs": [],
   "source": [
    "bagged_knn_test_accuracy=bagged_knn.score(x_test_res,y_test_res)\n",
    "bagged_knn_test_accuracy"
   ]
  },
  {
   "cell_type": "code",
   "execution_count": null,
   "metadata": {},
   "outputs": [],
   "source": [
    "confusion_matrix(y_test_res,y_pred_bagged_knn)"
   ]
  },
  {
   "cell_type": "code",
   "execution_count": null,
   "metadata": {},
   "outputs": [],
   "source": [
    "print(plot_confusion_matrix(estimator=bagged_knn,X=x_test_res,y_true=y_test_res,\n",
    "                            cmap=\"YlGnBu\",colorbar=False,display_labels=['Charged off','fully paid']))\n",
    "plt.title('Confussion matrix for testing data',size=15)\n",
    "plt.show()"
   ]
  },
  {
   "cell_type": "code",
   "execution_count": null,
   "metadata": {},
   "outputs": [],
   "source": [
    "print(classification_report(y_test_res,y_pred_bagged_knn))"
   ]
  },
  {
   "cell_type": "code",
   "execution_count": null,
   "metadata": {},
   "outputs": [],
   "source": [
    "bagged_knn_roc_auc=roc_auc_score(y_test_res,bagged_knn.predict_proba(x_test_res)[:,1])\n",
    "bagged_knn_roc_auc"
   ]
  },
  {
   "cell_type": "code",
   "execution_count": null,
   "metadata": {},
   "outputs": [],
   "source": [
    "model_performance=model_performance.append(pd.DataFrame({'Model':['Bagged_knn'],'accuracy':[bagged_knn_test_accuracy],'roc_auc':[bagged_knn_roc_auc]}),ignore_index=True)"
   ]
  },
  {
   "cell_type": "code",
   "execution_count": null,
   "metadata": {},
   "outputs": [],
   "source": [
    "model_performance"
   ]
  },
  {
   "cell_type": "code",
   "execution_count": null,
   "metadata": {},
   "outputs": [],
   "source": [
    "# bagged SVC\n",
    "bagged_svc=BaggingClassifier(base_estimator=svc,random_state=10)\n",
    "bagged_svc.fit(x_train_res,y_train_res)\n",
    "y_pred_bagged_svc=bagged_svc.predict(x_test_res)"
   ]
  },
  {
   "cell_type": "code",
   "execution_count": null,
   "metadata": {},
   "outputs": [],
   "source": [
    "print('training accuracy',bagged_svc.score(x_train_res,y_train_res))\n",
    "print('testing accuracy',bagged_svc.score(x_test_res,y_test_res))"
   ]
  },
  {
   "cell_type": "code",
   "execution_count": null,
   "metadata": {},
   "outputs": [],
   "source": [
    "bagged_svc_test_accuracy=bagged_knn.score(x_test_res,y_test_res)\n",
    "bagged_svc_test_accuracy"
   ]
  },
  {
   "cell_type": "code",
   "execution_count": null,
   "metadata": {},
   "outputs": [],
   "source": [
    "confusion_matrix(y_test_res,y_pred_bagged_svc)"
   ]
  },
  {
   "cell_type": "code",
   "execution_count": null,
   "metadata": {},
   "outputs": [],
   "source": [
    "print(plot_confusion_matrix(estimator=bagged_svc,X=x_test_res,y_true=y_test_res,\n",
    "                            cmap=\"YlGnBu\",colorbar=False,display_labels=['Charged off','fully paid']))\n",
    "plt.title('Confussion matrix for testing data',size=15)\n",
    "plt.show()"
   ]
  },
  {
   "cell_type": "code",
   "execution_count": null,
   "metadata": {},
   "outputs": [],
   "source": [
    "print(classification_report(y_test_res,y_pred_bagged_svc))"
   ]
  },
  {
   "cell_type": "code",
   "execution_count": null,
   "metadata": {},
   "outputs": [],
   "source": [
    "bagged_svc_roc_auc=roc_auc_score(y_test_res,bagged_knn.predict_proba(x_test_res)[:,1])\n",
    "bagged_svc_roc_auc"
   ]
  },
  {
   "cell_type": "code",
   "execution_count": null,
   "metadata": {},
   "outputs": [],
   "source": [
    "model_performance=model_performance.append(pd.DataFrame({'Model':['Bagged_svc'],'accuracy':[bagged_svc_test_accuracy],'roc_auc':[bagged_svc_roc_auc]}),ignore_index=True)"
   ]
  },
  {
   "cell_type": "code",
   "execution_count": null,
   "metadata": {},
   "outputs": [],
   "source": [
    "model_performance"
   ]
  },
  {
   "cell_type": "code",
   "execution_count": null,
   "metadata": {},
   "outputs": [],
   "source": []
  },
  {
   "cell_type": "code",
   "execution_count": null,
   "metadata": {},
   "outputs": [],
   "source": [
    "# bagged g_nb\n",
    "\n",
    "bagged_g_nb=BaggingClassifier(base_estimator=g_nb,random_state=10)\n",
    "bagged_g_nb.fit(x_train_res,y_train_res)\n",
    "y_pred_bagged_g_nb=bagged_g_nb.predict(x_test_res)"
   ]
  },
  {
   "cell_type": "code",
   "execution_count": null,
   "metadata": {},
   "outputs": [],
   "source": [
    "print('training accuracy',bagged_g_nb.score(x_train_res,y_train_res))\n",
    "print('testing accuracy',bagged_g_nb.score(x_test_res,y_test_res))"
   ]
  },
  {
   "cell_type": "code",
   "execution_count": null,
   "metadata": {},
   "outputs": [],
   "source": [
    "bagged_g_nb_test_accuracy=bagged_g_nb.score(x_test_res,y_test_res)\n",
    "bagged_g_nb_test_accuracy"
   ]
  },
  {
   "cell_type": "code",
   "execution_count": null,
   "metadata": {},
   "outputs": [],
   "source": [
    "confusion_matrix(y_test_res,y_pred_bagged_g_nb)"
   ]
  },
  {
   "cell_type": "code",
   "execution_count": null,
   "metadata": {},
   "outputs": [],
   "source": [
    "print(plot_confusion_matrix(estimator=bagged_g_nb,X=x_test_res,y_true=y_test_res,\n",
    "                            cmap=\"YlGnBu\",colorbar=False,display_labels=['Charged off','fully paid']))\n",
    "plt.title('Confussion matrix for testing data',size=15)\n",
    "plt.show()"
   ]
  },
  {
   "cell_type": "code",
   "execution_count": null,
   "metadata": {},
   "outputs": [],
   "source": [
    "print(classification_report(y_test_res,y_pred_bagged_g_nb))"
   ]
  },
  {
   "cell_type": "code",
   "execution_count": null,
   "metadata": {},
   "outputs": [],
   "source": [
    "bagged_g_nb_roc_auc=roc_auc_score(y_test_res,bagged_g_nb.predict_proba(x_test_res)[:,1])\n",
    "bagged_g_nb_roc_auc"
   ]
  },
  {
   "cell_type": "code",
   "execution_count": null,
   "metadata": {},
   "outputs": [],
   "source": [
    "model_performance=model_performance.append(pd.DataFrame({'Model':['Bagged_g_nb'],'accuracy':[bagged_g_nb_test_accuracy],'roc_auc':[bagged_g_nb_roc_auc]}),ignore_index=True)"
   ]
  },
  {
   "cell_type": "code",
   "execution_count": null,
   "metadata": {},
   "outputs": [],
   "source": [
    "model_performance"
   ]
  },
  {
   "cell_type": "code",
   "execution_count": null,
   "metadata": {},
   "outputs": [],
   "source": []
  },
  {
   "cell_type": "code",
   "execution_count": null,
   "metadata": {},
   "outputs": [],
   "source": []
  },
  {
   "cell_type": "code",
   "execution_count": null,
   "metadata": {},
   "outputs": [],
   "source": [
    "# bagged m_nb\n",
    "\n",
    "bagged_m_nb=BaggingClassifier(base_estimator=g_nb,random_state=10)\n",
    "bagged_m_nb.fit(x_train_res,y_train_res)\n",
    "y_pred_bagged_m_nb=bagged_m_nb.predict(x_test_res)"
   ]
  },
  {
   "cell_type": "code",
   "execution_count": null,
   "metadata": {},
   "outputs": [],
   "source": [
    "print('training accuracy',bagged_m_nb.score(x_train_res,y_train_res))\n",
    "print('testing accuracy',bagged_m_nb.score(x_test_res,y_test_res))"
   ]
  },
  {
   "cell_type": "code",
   "execution_count": null,
   "metadata": {},
   "outputs": [],
   "source": [
    "bagged_m_nb_test_accuracy=bagged_m_nb.score(x_test_res,y_test_res)\n",
    "bagged_m_nb_test_accuracy"
   ]
  },
  {
   "cell_type": "code",
   "execution_count": null,
   "metadata": {},
   "outputs": [],
   "source": [
    "confusion_matrix(y_test_res,y_pred_bagged_m_nb)"
   ]
  },
  {
   "cell_type": "code",
   "execution_count": null,
   "metadata": {},
   "outputs": [],
   "source": [
    "print(plot_confusion_matrix(estimator=bagged_m_nb,X=x_test_res,y_true=y_test_res,\n",
    "                            cmap=\"YlGnBu\",colorbar=False,display_labels=['Charged off','fully paid']))\n",
    "plt.title('Confussion matrix for testing data',size=15)\n",
    "plt.show()"
   ]
  },
  {
   "cell_type": "code",
   "execution_count": null,
   "metadata": {},
   "outputs": [],
   "source": [
    "print(classification_report(y_test_res,y_pred_bagged_m_nb))"
   ]
  },
  {
   "cell_type": "code",
   "execution_count": null,
   "metadata": {},
   "outputs": [],
   "source": [
    "bagged_m_nb_roc_auc=roc_auc_score(y_test_res,bagged_m_nb.predict_proba(x_test_res)[:,1])\n",
    "bagged_g_nb_roc_auc"
   ]
  },
  {
   "cell_type": "code",
   "execution_count": null,
   "metadata": {},
   "outputs": [],
   "source": [
    "model_performance=model_performance.append(pd.DataFrame({'Model':['Bagged_m_nb'],'accuracy':[bagged_m_nb_test_accuracy],'roc_auc':[bagged_m_nb_roc_auc]}),ignore_index=True)"
   ]
  },
  {
   "cell_type": "code",
   "execution_count": null,
   "metadata": {},
   "outputs": [],
   "source": [
    "model_performance"
   ]
  },
  {
   "cell_type": "code",
   "execution_count": null,
   "metadata": {},
   "outputs": [],
   "source": []
  },
  {
   "cell_type": "markdown",
   "metadata": {},
   "source": [
    "#### <font color='blue'>Boosting algorithms</font>"
   ]
  },
  {
   "cell_type": "code",
   "execution_count": null,
   "metadata": {},
   "outputs": [],
   "source": [
    "from sklearn.ensemble import AdaBoostClassifier"
   ]
  },
  {
   "cell_type": "code",
   "execution_count": null,
   "metadata": {},
   "outputs": [],
   "source": [
    "# ada_boost_with_logostic_regression\n",
    "ada_lr=AdaBoostClassifier(base_estimator=lr,random_state=10)\n",
    "ada_lr.fit(x_train_res,y_train_res)\n",
    "y_pred_ada_lr=ada_lr.predict(x_test_res)\n"
   ]
  },
  {
   "cell_type": "code",
   "execution_count": null,
   "metadata": {},
   "outputs": [],
   "source": [
    "print('training accuracy',ada_lr.score(x_train_res,y_train_res))\n",
    "print('testing accuracy',ada_lr.score(x_test_res,y_test_res))"
   ]
  },
  {
   "cell_type": "code",
   "execution_count": null,
   "metadata": {},
   "outputs": [],
   "source": [
    "ada_lr_test_accuracy=ada_lr.score(x_test_res,y_test_res)\n",
    "ada_lr_test_accuracy"
   ]
  },
  {
   "cell_type": "code",
   "execution_count": null,
   "metadata": {},
   "outputs": [],
   "source": [
    "confusion_matrix(y_test_res,y_pred_ada_lr)"
   ]
  },
  {
   "cell_type": "code",
   "execution_count": null,
   "metadata": {},
   "outputs": [],
   "source": [
    "print(plot_confusion_matrix(estimator=ada_lr,X=x_test_res,y_true=y_test_res,\n",
    "                            cmap=\"YlGnBu\",colorbar=False,display_labels=['Charged off','fully paid']))\n",
    "plt.title('Confussion matrix for testing data',size=15)\n",
    "plt.show()"
   ]
  },
  {
   "cell_type": "code",
   "execution_count": null,
   "metadata": {},
   "outputs": [],
   "source": [
    "print(classification_report(y_test_res,y_pred_ada_lr))"
   ]
  },
  {
   "cell_type": "code",
   "execution_count": null,
   "metadata": {},
   "outputs": [],
   "source": [
    "ada_lr_roc_auc=roc_auc_score(y_test_res,ada_lr.predict_proba(x_test_res)[:,1])\n",
    "ada_lr_roc_auc"
   ]
  },
  {
   "cell_type": "code",
   "execution_count": null,
   "metadata": {},
   "outputs": [],
   "source": [
    "model_performance=model_performance.append(pd.DataFrame({'Model':['ada_lr'],'accuracy':[ada_lr_test_accuracy],'roc_auc':[ada_lr_roc_auc]}),ignore_index=True)"
   ]
  },
  {
   "cell_type": "code",
   "execution_count": null,
   "metadata": {},
   "outputs": [],
   "source": [
    "model_performance"
   ]
  },
  {
   "cell_type": "code",
   "execution_count": null,
   "metadata": {},
   "outputs": [],
   "source": []
  },
  {
   "cell_type": "code",
   "execution_count": null,
   "metadata": {},
   "outputs": [],
   "source": [
    "# ada_knn\n",
    "\n",
    "# ada_knn=AdaBoostClassifier(base_estimator=knn,random_state=10)\n",
    "# ada_knn.fit(x_train_res,y_train_res)\n",
    "# y_pred_ada_knn=ada_knn.predict(x_test_res)"
   ]
  },
  {
   "cell_type": "code",
   "execution_count": null,
   "metadata": {},
   "outputs": [],
   "source": [
    "# print('training accuracy',ada_knn.score(x_train_res,y_train_res))\n",
    "# print('testing accuracy',ada_knn.score(x_test_res,y_test_res))"
   ]
  },
  {
   "cell_type": "code",
   "execution_count": null,
   "metadata": {},
   "outputs": [],
   "source": [
    "# ada_knn_test_accuracy=bagged_knn.score(x_test_res,y_test_res)\n",
    "# ada_knn_test_accuracy"
   ]
  },
  {
   "cell_type": "code",
   "execution_count": null,
   "metadata": {},
   "outputs": [],
   "source": [
    "# confusion_matrix(y_test_res,y_pred_ada_knn)"
   ]
  },
  {
   "cell_type": "code",
   "execution_count": null,
   "metadata": {},
   "outputs": [],
   "source": [
    "# print(plot_confusion_matrix(estimator=ada_knn,X=x_test_res,y_true=y_test_res,\n",
    "#                             cmap=\"YlGnBu\",colorbar=False,display_labels=['Charged off','fully paid']))\n",
    "# plt.title('Confussion matrix for testing data',size=15)\n",
    "# plt.show()"
   ]
  },
  {
   "cell_type": "code",
   "execution_count": null,
   "metadata": {},
   "outputs": [],
   "source": [
    "# print(classification_report(y_test_res,y_pred_ada_knn))"
   ]
  },
  {
   "cell_type": "code",
   "execution_count": null,
   "metadata": {},
   "outputs": [],
   "source": [
    "# ada_knn_roc_auc=roc_auc_score(y_test_res,ada_knn.predict_proba(x_test_res)[:,1])\n",
    "# ada_knn_roc_auc"
   ]
  },
  {
   "cell_type": "code",
   "execution_count": null,
   "metadata": {},
   "outputs": [],
   "source": [
    "# model_performance=model_performance.append(pd.DataFrame({'Model':['ada_knn'],'accuracy':[ada_knn_test_accuracy],'roc_auc':[ada_knn_roc_auc]}),ignore_index=True)"
   ]
  },
  {
   "cell_type": "code",
   "execution_count": null,
   "metadata": {},
   "outputs": [],
   "source": [
    "# model_performance"
   ]
  },
  {
   "cell_type": "code",
   "execution_count": null,
   "metadata": {},
   "outputs": [],
   "source": []
  },
  {
   "cell_type": "code",
   "execution_count": null,
   "metadata": {},
   "outputs": [],
   "source": [
    "# ada_g_nb\n",
    "\n",
    "ada_g_nb=AdaBoostClassifier(base_estimator=g_nb,random_state=10)\n",
    "ada_g_nb.fit(x_train_res,y_train_res)\n",
    "y_pred_ada_g_nb=ada_g_nb.predict(x_test_res)"
   ]
  },
  {
   "cell_type": "code",
   "execution_count": null,
   "metadata": {},
   "outputs": [],
   "source": [
    "print('training accuracy',ada_g_nb.score(x_train_res,y_train_res))\n",
    "print('testing accuracy',ada_g_nb.score(x_test_res,y_test_res))"
   ]
  },
  {
   "cell_type": "code",
   "execution_count": null,
   "metadata": {},
   "outputs": [],
   "source": [
    "ada_g_nb_test_accuracy=bagged_g_nb.score(x_test_res,y_test_res)\n",
    "ada_g_nb_test_accuracy"
   ]
  },
  {
   "cell_type": "code",
   "execution_count": null,
   "metadata": {},
   "outputs": [],
   "source": [
    "confusion_matrix(y_test_res,y_pred_ada_g_nb)"
   ]
  },
  {
   "cell_type": "code",
   "execution_count": null,
   "metadata": {},
   "outputs": [],
   "source": [
    "print(plot_confusion_matrix(estimator=ada_g_nb,X=x_test_res,y_true=y_test_res,\n",
    "                            cmap=\"YlGnBu\",colorbar=False,display_labels=['Charged off','fully paid']))\n",
    "plt.title('Confussion matrix for testing data',size=15)\n",
    "plt.show()"
   ]
  },
  {
   "cell_type": "code",
   "execution_count": null,
   "metadata": {},
   "outputs": [],
   "source": [
    "print(classification_report(y_test_res,y_pred_ada_g_nb))"
   ]
  },
  {
   "cell_type": "code",
   "execution_count": null,
   "metadata": {},
   "outputs": [],
   "source": [
    "ada_g_nb_roc_auc=roc_auc_score(y_test_res,ada_g_nb.predict_proba(x_test_res)[:,1])\n",
    "ada_g_nb_roc_auc"
   ]
  },
  {
   "cell_type": "code",
   "execution_count": null,
   "metadata": {},
   "outputs": [],
   "source": [
    "model_performance=model_performance.append(pd.DataFrame({'Model':['ada_g_nb'],'accuracy':[ada_g_nb_test_accuracy],'roc_auc':[ada_g_nb_roc_auc]}),ignore_index=True)"
   ]
  },
  {
   "cell_type": "code",
   "execution_count": null,
   "metadata": {},
   "outputs": [],
   "source": [
    "model_performance"
   ]
  },
  {
   "cell_type": "code",
   "execution_count": null,
   "metadata": {},
   "outputs": [],
   "source": []
  },
  {
   "cell_type": "code",
   "execution_count": null,
   "metadata": {},
   "outputs": [],
   "source": [
    "# ada_m_nb\n",
    "ada_m_nb=AdaBoostClassifier(base_estimator=m_nb,random_state=10)\n",
    "ada_m_nb.fit(x_train_res,y_train_res)\n",
    "y_pred_ada_m_nb=ada_m_nb.predict(x_test_res)"
   ]
  },
  {
   "cell_type": "code",
   "execution_count": null,
   "metadata": {},
   "outputs": [],
   "source": [
    "print('training accuracy',ada_m_nb.score(x_train_res,y_train_res))\n",
    "print('testing accuracy',ada_m_nb.score(x_test_res,y_test_res))"
   ]
  },
  {
   "cell_type": "code",
   "execution_count": null,
   "metadata": {},
   "outputs": [],
   "source": [
    "ada_m_nb_test_accuracy=bagged_m_nb.score(x_test_res,y_test_res)\n",
    "ada_m_nb_test_accuracy"
   ]
  },
  {
   "cell_type": "code",
   "execution_count": null,
   "metadata": {},
   "outputs": [],
   "source": [
    "confusion_matrix(y_test_res,y_pred_ada_m_nb)"
   ]
  },
  {
   "cell_type": "code",
   "execution_count": null,
   "metadata": {},
   "outputs": [],
   "source": [
    "print(plot_confusion_matrix(estimator=ada_m_nb,X=x_test_res,y_true=y_test_res,\n",
    "                            cmap=\"YlGnBu\",colorbar=False,display_labels=['Charged off','fully paid']))\n",
    "plt.title('Confussion matrix for testing data',size=15)\n",
    "plt.show()"
   ]
  },
  {
   "cell_type": "code",
   "execution_count": null,
   "metadata": {},
   "outputs": [],
   "source": [
    "print(classification_report(y_test_res,y_pred_ada_m_nb))"
   ]
  },
  {
   "cell_type": "code",
   "execution_count": null,
   "metadata": {},
   "outputs": [],
   "source": [
    "ada_m_nb_roc_auc=roc_auc_score(y_test_res,ada_m_nb.predict_proba(x_test_res)[:,1])\n",
    "ada_m_nb_roc_auc"
   ]
  },
  {
   "cell_type": "code",
   "execution_count": null,
   "metadata": {},
   "outputs": [],
   "source": [
    "model_performance=model_performance.append(pd.DataFrame({'Model':['ada_m_nb'],'accuracy':[ada_m_nb_test_accuracy],'roc_auc':[ada_m_nb_roc_auc]}),ignore_index=True)"
   ]
  },
  {
   "cell_type": "code",
   "execution_count": null,
   "metadata": {},
   "outputs": [],
   "source": [
    "model_performance"
   ]
  },
  {
   "cell_type": "code",
   "execution_count": null,
   "metadata": {},
   "outputs": [],
   "source": []
  },
  {
   "cell_type": "code",
   "execution_count": null,
   "metadata": {},
   "outputs": [],
   "source": []
  },
  {
   "cell_type": "markdown",
   "metadata": {},
   "source": [
    "## Gradient_boost"
   ]
  },
  {
   "cell_type": "code",
   "execution_count": null,
   "metadata": {},
   "outputs": [],
   "source": [
    "from sklearn.ensemble import GradientBoostingClassifier"
   ]
  },
  {
   "cell_type": "code",
   "execution_count": null,
   "metadata": {},
   "outputs": [],
   "source": [
    "# gradient_boost\n",
    "gradient_b=GradientBoostingClassifier(random_state=10)\n",
    "gradient_b.fit(x_train_res,y_train_res)\n",
    "y_pred_gradient_b=gradient_b.predict(x_test_res)"
   ]
  },
  {
   "cell_type": "code",
   "execution_count": null,
   "metadata": {},
   "outputs": [],
   "source": [
    "print('training accuracy',gradient_b.score(x_train_res,y_train_res))\n",
    "print('testing accuracy',gradient_b.score(x_test_res,y_test_res))"
   ]
  },
  {
   "cell_type": "code",
   "execution_count": null,
   "metadata": {},
   "outputs": [],
   "source": [
    "gradient_b_test_accuracy=gradient_b.score(x_test_res,y_test_res)\n",
    "gradient_b_test_accuracy"
   ]
  },
  {
   "cell_type": "code",
   "execution_count": null,
   "metadata": {},
   "outputs": [],
   "source": [
    "confusion_matrix(y_test_res,y_pred_gradient_b)"
   ]
  },
  {
   "cell_type": "code",
   "execution_count": null,
   "metadata": {},
   "outputs": [],
   "source": [
    "print(plot_confusion_matrix(estimator=gradient_b,X=x_test_res,y_true=y_test_res,\n",
    "                            cmap=\"YlGnBu\",colorbar=False,display_labels=['Charged off','fully paid']))\n",
    "plt.title('Confussion matrix for testing data',size=15)\n",
    "plt.show()"
   ]
  },
  {
   "cell_type": "code",
   "execution_count": null,
   "metadata": {},
   "outputs": [],
   "source": [
    "print(classification_report(y_test_res,y_pred_gradient_b))"
   ]
  },
  {
   "cell_type": "code",
   "execution_count": null,
   "metadata": {},
   "outputs": [],
   "source": [
    "gradient_b_roc_auc=roc_auc_score(y_test_res,gradient_b.predict_proba(x_test_res)[:,1])\n",
    "gradient_b_roc_auc"
   ]
  },
  {
   "cell_type": "code",
   "execution_count": null,
   "metadata": {},
   "outputs": [],
   "source": [
    "model_performance=model_performance.append(pd.DataFrame({'Model':['gradient_b'],'accuracy':[gradient_b_test_accuracy],'roc_auc':[gradient_b_roc_auc]}),ignore_index=True)"
   ]
  },
  {
   "cell_type": "code",
   "execution_count": null,
   "metadata": {},
   "outputs": [],
   "source": [
    "model_performance"
   ]
  },
  {
   "cell_type": "code",
   "execution_count": null,
   "metadata": {},
   "outputs": [],
   "source": []
  },
  {
   "cell_type": "markdown",
   "metadata": {},
   "source": [
    "### Xgboost"
   ]
  },
  {
   "cell_type": "code",
   "execution_count": null,
   "metadata": {},
   "outputs": [],
   "source": [
    "# Titasta"
   ]
  },
  {
   "cell_type": "code",
   "execution_count": null,
   "metadata": {},
   "outputs": [],
   "source": [
    "import re\n",
    "regex = re.compile(r\"\\[|\\]|<\", re.IGNORECASE)"
   ]
  },
  {
   "cell_type": "code",
   "execution_count": null,
   "metadata": {},
   "outputs": [],
   "source": [
    "from xgboost import XGBClassifier"
   ]
  },
  {
   "cell_type": "code",
   "execution_count": null,
   "metadata": {},
   "outputs": [],
   "source": [
    "x_train_res_copy = x_train_res.copy()\n",
    "x_test_res_copy = x_test_res.copy()"
   ]
  },
  {
   "cell_type": "code",
   "execution_count": null,
   "metadata": {},
   "outputs": [],
   "source": [
    "# gradient_boost\n",
    "xg_b=XGBClassifier(random_state=10)\n",
    "\n",
    "x_train_res_copy.columns = [regex.sub(\"_\", col) if any(x in str(col) for x in set(('[', ']', '<'))) else col for col in x_train_res_copy.columns.values]\n",
    "\n",
    "x_test_res_copy.columns = [regex.sub(\"_\", col) if any(x in str(col) for x in set(('[', ']', '<'))) else col for col in x_test_res_copy.columns.values]\n",
    "\n",
    "xg_b.fit(x_train_res_copy,y_train_res)\n",
    "\n",
    "y_pred_xg_b=xg_b.predict(x_test_res_copy)"
   ]
  },
  {
   "cell_type": "code",
   "execution_count": null,
   "metadata": {},
   "outputs": [],
   "source": []
  },
  {
   "cell_type": "code",
   "execution_count": null,
   "metadata": {},
   "outputs": [],
   "source": [
    "print('training accuracy',xg_b.score(x_train_res,y_train_res))\n",
    "print('testing accuracy',xg_b.score(x_test_res,y_test_res))"
   ]
  },
  {
   "cell_type": "code",
   "execution_count": null,
   "metadata": {},
   "outputs": [],
   "source": [
    "xg_b_test_accuracy=xg_b.score(x_test_res,y_test_res)\n",
    "xg_b_test_accuracy"
   ]
  },
  {
   "cell_type": "code",
   "execution_count": null,
   "metadata": {},
   "outputs": [],
   "source": [
    "confusion_matrix(y_test_res,y_pred_xg_b)"
   ]
  },
  {
   "cell_type": "code",
   "execution_count": null,
   "metadata": {},
   "outputs": [],
   "source": [
    "print(plot_confusion_matrix(estimator=xg_b,X=x_test_res,y_true=y_test_res,\n",
    "                            cmap=\"YlGnBu\",colorbar=False,display_labels=['Charged off','fully paid']))\n",
    "plt.title('Confussion matrix for testing data',size=15)\n",
    "plt.show()"
   ]
  },
  {
   "cell_type": "code",
   "execution_count": null,
   "metadata": {},
   "outputs": [],
   "source": [
    "print(classification_report(y_test_res,y_pred_xg_b))"
   ]
  },
  {
   "cell_type": "code",
   "execution_count": null,
   "metadata": {},
   "outputs": [],
   "source": [
    "xg_b_roc_auc=roc_auc_score(y_test_res,xg_b.predict_proba(x_test_res)[:,1])\n",
    "xg_b_roc_auc"
   ]
  },
  {
   "cell_type": "code",
   "execution_count": null,
   "metadata": {},
   "outputs": [],
   "source": [
    "model_performance=model_performance.append(pd.DataFrame({'Model':['xg_b'],'accuracy':[xg_b_test_accuracy],'roc_auc':[xg_b_roc_auc]}),ignore_index=True)"
   ]
  },
  {
   "cell_type": "code",
   "execution_count": null,
   "metadata": {},
   "outputs": [],
   "source": [
    "# model_performance = model_performance.drop(['level_0','index'],axis=1)"
   ]
  },
  {
   "cell_type": "code",
   "execution_count": null,
   "metadata": {},
   "outputs": [],
   "source": [
    "model_performance = model_performance.drop_duplicates(keep='first',ignore_index=True)\n",
    "model_performance.style.background_gradient()"
   ]
  },
  {
   "cell_type": "code",
   "execution_count": null,
   "metadata": {},
   "outputs": [],
   "source": [
    "selective_model_performance = model_performance[(model_performance['accuracy']>0.80) & (model_performance['roc_auc']>0.80)]\n",
    "selective_model_performance.drop_duplicates(subset=['accuracy','roc_auc'])\n"
   ]
  },
  {
   "cell_type": "code",
   "execution_count": null,
   "metadata": {},
   "outputs": [],
   "source": [
    "selective_model_performance.style.background_gradient()"
   ]
  },
  {
   "cell_type": "markdown",
   "metadata": {},
   "source": [
    "### <font color='blue'> Plotting Model Performance metrics for different Models</font>"
   ]
  },
  {
   "cell_type": "code",
   "execution_count": null,
   "metadata": {},
   "outputs": [],
   "source": [
    "plt.figure(figsize=(30,15))\n",
    "sns.lineplot(x=model_performance.index, y = 'accuracy',color='red',data= model_performance,label='accuracy')\n",
    "sns.lineplot(x=model_performance.index, y = 'roc_auc',color='blue',data= model_performance,label='roc_auc')\n",
    "plt.axhline(0.80,color='black',linestyle='--')\n",
    "plt.xticks(np.arange(0, len(model_performance)+1, 1),fontsize=15)\n",
    "plt.xlabel('Models',fontsize=25)\n",
    "plt.ylabel('Accuracy / ROC_AUC',fontsize=25)\n",
    "plt.grid()\n",
    "plt.rc('xtick', labelsize=30) \n",
    "plt.rc('ytick', labelsize=30) \n",
    "plt.legend(fontsize=20)\n"
   ]
  },
  {
   "cell_type": "markdown",
   "metadata": {},
   "source": [
    "### <font color='blue'>Inference:\n",
    "    \n",
    "    \n",
    "\n"
   ]
  },
  {
   "cell_type": "markdown",
   "metadata": {},
   "source": [
    "### <font color='red'>DecisionTreeClassifier full model with Hyperparamter Tuning<font/>"
   ]
  },
  {
   "cell_type": "raw",
   "metadata": {},
   "source": [
    "model_dt_full=DecisionTreeClassifier(random_state=42)\n",
    "param={'criterion':['gini','entropy'],'max_depth':list(range(1,100)),'min_samples_split':list(range(1,100)),'min_samples_leaf':\n",
    "      list(range(1,100))}\n",
    "grid1=RandomizedSearchCV(estimator=model_dt_full,param_distributions=param,n_iter=100,cv=5,random_state=42)\n",
    "grid1.fit(x_train_res,y_train_res)"
   ]
  },
  {
   "cell_type": "raw",
   "metadata": {},
   "source": [
    "grid1.best_params_"
   ]
  },
  {
   "cell_type": "raw",
   "metadata": {},
   "source": [
    "tuned_model_dt_full=DecisionTreeClassifier(min_samples_split=41,min_samples_leaf=63,max_depth=36,criterion='entropy',random_state=42)\n",
    "tuned_model_dt_full.fit(x_train_res,y_train_res)\n",
    "y_pred_DT_full_HP=tuned_model_dt_full.predict(x_test_res)"
   ]
  },
  {
   "cell_type": "raw",
   "metadata": {},
   "source": [
    "# score for test and train data\n",
    "print('training accuracy',tuned_model_dt_full.score(x_train_res,y_train_res))\n",
    "print('testing accuracy',tuned_model_dt_full.score(x_test_res,y_test_res))"
   ]
  },
  {
   "cell_type": "raw",
   "metadata": {},
   "source": [
    "confusion_matrix(y_test_res,y_pred_DT_full_HP)"
   ]
  },
  {
   "cell_type": "raw",
   "metadata": {},
   "source": [
    "print(plot_confusion_matrix(estimator=tuned_model_dt_full,X=x_test_res,y_true=y_test_res,\n",
    "                            cmap=\"YlGnBu\",colorbar=False,display_labels=['Charged off','fully paid']))\n",
    "plt.title('Confussion matrix for testing data',size=15)\n",
    "plt.show()"
   ]
  },
  {
   "cell_type": "raw",
   "metadata": {},
   "source": [
    "print(classification_report(y_test_res,y_pred_DT_full_HP))"
   ]
  },
  {
   "cell_type": "raw",
   "metadata": {},
   "source": [
    "roc_auc_score(y_test_res,tuned_model_dt_full.predict_proba(x_test_res)[:,1])"
   ]
  },
  {
   "cell_type": "raw",
   "metadata": {},
   "source": [
    "model_performance=model_performance.append(pd.DataFrame({'Model':['Decision Tree full model(Hyperparameter tuning)'],'accuracy':[0.81],'roc_auc':[0.91]}),ignore_index=True)"
   ]
  },
  {
   "cell_type": "raw",
   "metadata": {},
   "source": [
    "model_performance"
   ]
  },
  {
   "cell_type": "raw",
   "metadata": {},
   "source": [
    "### <font color='red'>DecisionTreeClassifier with important features and with Hyperparamter Tuning<font/>"
   ]
  },
  {
   "cell_type": "raw",
   "metadata": {},
   "source": [
    "model_dt_imp_feat=DecisionTreeClassifier(random_state=42)\n",
    "param={'criterion':['gini','entropy'],'max_depth':list(range(1,100)),'min_samples_split':list(range(1,100)),'min_samples_leaf':\n",
    "      list(range(1,100))}\n",
    "grid2=RandomizedSearchCV(estimator=model_dt_imp_feat,param_distributions=param,n_iter=100,cv=5,random_state=42)\n",
    "grid2.fit(x_train_imp,y_train_res)"
   ]
  },
  {
   "cell_type": "raw",
   "metadata": {},
   "source": [
    "grid2.best_params_"
   ]
  },
  {
   "cell_type": "raw",
   "metadata": {},
   "source": [
    "tuned_model_dt_imp_feat=DecisionTreeClassifier(min_samples_split=94,min_samples_leaf=54,max_depth=51,criterion='entropy',random_state=42)\n",
    "tuned_model_dt_imp_feat.fit(x_train_imp,y_train_res)\n",
    "y_pred_DT_imp_HP=tuned_model_dt_imp_feat.predict(x_test_imp)"
   ]
  },
  {
   "cell_type": "raw",
   "metadata": {},
   "source": [
    "# score for test and train data\n",
    "print('training accuracy',tuned_model_dt_imp_feat.score(x_train_imp,y_train_res))\n",
    "print('testing accuracy',tuned_model_dt_imp_feat.score(x_test_imp,y_test_res))"
   ]
  },
  {
   "cell_type": "raw",
   "metadata": {},
   "source": [
    "confusion_matrix(y_test_res,y_pred_DT_imp_HP)"
   ]
  },
  {
   "cell_type": "raw",
   "metadata": {},
   "source": [
    "print(plot_confusion_matrix(estimator=tuned_model_dt_imp_feat,X=x_test_imp,y_true=y_test_res,\n",
    "                            cmap=\"YlGnBu\",colorbar=False,display_labels=['Charged off','fully paid']))\n",
    "plt.title('Confussion matrix for testing data',size=15)\n",
    "plt.show()"
   ]
  },
  {
   "cell_type": "raw",
   "metadata": {},
   "source": [
    "print(classification_report(y_test_res,y_pred_DT_imp_HP))"
   ]
  },
  {
   "cell_type": "raw",
   "metadata": {},
   "source": [
    "roc_auc_score(y_test_res,tuned_model_dt_imp_feat.predict_proba(x_test_imp)[:,1])"
   ]
  },
  {
   "cell_type": "raw",
   "metadata": {},
   "source": [
    "model_performance=model_performance.append(pd.DataFrame({'Model':['Decision Tree with important features(Hyperparameter tuning)'],'accuracy':[0.79],'roc_auc':[0.89]}),ignore_index=True)"
   ]
  },
  {
   "cell_type": "raw",
   "metadata": {},
   "source": [
    "model_performance"
   ]
  },
  {
   "cell_type": "markdown",
   "metadata": {},
   "source": [
    "### <font color='blue'> Plotting Model Performance metrics for different Models</font>"
   ]
  },
  {
   "cell_type": "code",
   "execution_count": null,
   "metadata": {},
   "outputs": [],
   "source": [
    "plt.figure(figsize=(25,8))\n",
    "sns.lineplot(x=model_performance.index, y = 'accuracy',color='red',data= model_performance,label='accuracy')\n",
    "sns.lineplot(x=model_performance.index, y = 'roc_auc',color='blue',data= model_performance,label='roc_auc')\n",
    "plt.axhline(0.8,color='black',linestyle='--')\n",
    "plt.axhline(0.9,color='black',linestyle='--')\n",
    "plt.xticks(np.arange(0, len(model_performance)+1, 1))\n",
    "plt.grid()\n",
    "plt.legend()"
   ]
  },
  {
   "cell_type": "markdown",
   "metadata": {},
   "source": [
    "# Future agenda:\n",
    "* Try other models like XGBoost, ADABoost,SVM etc. \n",
    "* Follow the above procedure to hyper parameter tune rest of the selected models and eventually decide which model is to be chosen .\n",
    "* Try to combine few features to make composite features.\n",
    "* Check Optimal threshold for feature importance.\n",
    "* Check cardinality issue."
   ]
  },
  {
   "cell_type": "raw",
   "metadata": {},
   "source": [
    "# model to be deployed\n",
    "Bagging classifier\n",
    ">logistic\n",
    ">Knn\n",
    ">Naivebays>\n",
    ">Svm\n",
    "\n",
    "\n",
    "Boosting\n",
    ">Adaboost>\n",
    ">gradient boost\n",
    ">Xgboost"
   ]
  },
  {
   "cell_type": "raw",
   "metadata": {},
   "source": [
    "Day: Wednesday\n",
    "a) Feature importance(RFE,cut_off value,permutation importance)\n",
    "b) Dynamic dataframe\n",
    "c) Fitting remaining models\n",
    "d) Previous models built on the same problem\n",
    "\n",
    "Day: Thursday\n",
    "a) PPT\n",
    "b) Dividing of the topic\n",
    "\n",
    "Day: Friday\n",
    " a) revision\n",
    "\n"
   ]
  },
  {
   "cell_type": "raw",
   "metadata": {},
   "source": [
    "import eli5\n",
    "from eli5.sklearn import PermutationImportance\n",
    "\n",
    "perm = PermutationImportance(my_model, random_state=1).fit(val_X, val_y)\n",
    "eli5.show_weights(perm, feature_names = val_X.columns.tolist())"
   ]
  },
  {
   "cell_type": "code",
   "execution_count": null,
   "metadata": {},
   "outputs": [],
   "source": [
    "#Rndom Forest and XG Boost HPT is left"
   ]
  },
  {
   "cell_type": "code",
   "execution_count": null,
   "metadata": {},
   "outputs": [],
   "source": [
    "#Random Forest with HPT"
   ]
  },
  {
   "cell_type": "code",
   "execution_count": null,
   "metadata": {},
   "outputs": [],
   "source": []
  },
  {
   "cell_type": "code",
   "execution_count": null,
   "metadata": {},
   "outputs": [],
   "source": [
    "from sklearn.model_selection import RandomizedSearchCV\n",
    "\n",
    "# Number of trees in random forest\n",
    "n_estimators = [int(x) for x in range(200,2000,200)]\n",
    "# Number of features to consider at every split\n",
    "max_features = ['auto', 'sqrt']\n",
    "# Maximum number of levels in tree\n",
    "max_depth = [int(x) for x in np.linspace(10, 110, num = 11)]\n",
    "max_depth.append(None)\n",
    "# Minimum number of samples required to split a node\n",
    "min_samples_split = [2, 5, 10]\n",
    "# Minimum number of samples required at each leaf node\n",
    "min_samples_leaf = [1, 2, 4]\n",
    "# Method of selecting samples for training each tree\n",
    "bootstrap = [True, False]\n",
    "# Create the random grid\n",
    "random_grid = {'n_estimators': n_estimators,\n",
    "               'max_features': max_features,\n",
    "               'max_depth': max_depth,\n",
    "               'min_samples_split': min_samples_split,\n",
    "               'min_samples_leaf': min_samples_leaf,\n",
    "               'bootstrap': bootstrap}\n",
    "print(random_grid)"
   ]
  },
  {
   "cell_type": "code",
   "execution_count": null,
   "metadata": {},
   "outputs": [],
   "source": [
    "# Use the random grid to search for best hyperparameters\n",
    "# First create the base model to tune\n",
    "rf = RandomForestClassifier(random_state=10)\n",
    "# Random search of parameters, using 3 fold cross validation, \n",
    "# search across 100 different combinations, and use all available cores\n",
    "rf_random = RandomizedSearchCV(estimator = rf, param_distributions = random_grid, n_iter = 100, cv = 3, verbose=2, random_state=42, n_jobs = -1)\n",
    "# Fit the random search model\n",
    "rf_random.fit(x_train_res, y_train_res)"
   ]
  },
  {
   "cell_type": "code",
   "execution_count": null,
   "metadata": {},
   "outputs": [],
   "source": [
    "rf_random.best_params_"
   ]
  },
  {
   "cell_type": "code",
   "execution_count": null,
   "metadata": {},
   "outputs": [],
   "source": [
    "# Extract best params from above and add below"
   ]
  },
  {
   "cell_type": "code",
   "execution_count": null,
   "metadata": {},
   "outputs": [],
   "source": [
    "model_rf_hpt=RandomForestClassifier(random_state=10,n_estimators=400,min_samples_split=5,\n",
    "                                    max_features='auto',max_depth=60,bootstrap=False)\n",
    "model_rf_hpt.fit(x_train_res,y_train_res)\n",
    "y_pred_rf_full_model_balance_data=model_rf_hpt.predict(x_test_res)\n",
    "\n",
    "print('training accuracy',model_rf_hpt.score(x_train_res,y_train_res))\n",
    "print('testing accuracy',model_rf_hpt.score(x_test_res,y_test_res))\n",
    "\n",
    "model_rf_hpt_test_accuracy=model_rf_hpt.score(x_test_res,y_test_res)\n",
    "model_rf_hpt_test_accuracy\n",
    "\n",
    "confusion_matrix(y_test_res,y_pred_rf_full_model_balance_data)\n",
    "\n",
    "print(plot_confusion_matrix(estimator=model_rf_hpt,X=x_test_res,y_true=y_test_res,\n",
    "                            cmap=\"YlGnBu\",colorbar=False,display_labels=['Charged off','fully paid']))\n",
    "plt.title('Confussion matrix for testing data',size=15)\n",
    "plt.show()\n",
    "\n",
    "print(classification_report(y_test_res,y_pred_rf_full_model_balance_data))\n",
    "\n",
    "model_rf_hpt_roc_auc=roc_auc_score(y_test_res,model_rf_hpt.predict_proba(x_test_res)[:,1])\n",
    "model_rf_hpt_roc_auc"
   ]
  },
  {
   "cell_type": "code",
   "execution_count": null,
   "metadata": {},
   "outputs": [],
   "source": [
    "# XGB with HPT"
   ]
  },
  {
   "cell_type": "code",
   "execution_count": null,
   "metadata": {},
   "outputs": [],
   "source": [
    "# Titasta"
   ]
  },
  {
   "cell_type": "code",
   "execution_count": null,
   "metadata": {},
   "outputs": [],
   "source": [
    "from sklearn.model_selection import RandomizedSearchCV\n",
    "\n",
    "# Number of trees in random forest\n",
    "n_estimators = [int(x) for x in range(200,2000,200)]\n",
    "\n",
    "# Maximum number of levels in tree\n",
    "max_depth = [int(x) for x in np.linspace(10, 110, num = 11)]\n",
    "max_depth.append(None)\n",
    "\n",
    "#learning rate\n",
    "learning_rate = [0.00001,0.0001,0.001,0.01,0.1]\n",
    "\n",
    "# Create the random grid\n",
    "random_grid = {'n_estimators': n_estimators,\n",
    "               'max_depth': max_depth,\n",
    "               'learning_rate':learning_rate\n",
    "               }\n",
    "print(random_grid)"
   ]
  },
  {
   "cell_type": "code",
   "execution_count": null,
   "metadata": {},
   "outputs": [],
   "source": [
    "xgb_model = XGBClassifier(random_state=10)\n",
    "\n",
    "# use GridSearchCV() to find the optimal value of the hyperparameters\n",
    "# estimator: pass the XGBoost classifier model\n",
    "# param_grid: pass the list 'tuned_parameters'\n",
    "# cv: number of folds in k-fold i.e. here cv = 3\n",
    "# scoring: pass a measure to evaluate the model on test set\n",
    "xgb_grid = RandomizedSearchCV(estimator = xgb_model, param_distributions = random_grid,n_jobs=-1, cv = 3, n_iter = 100,scoring = 'accuracy')\n",
    "\n",
    "# fit the model on xtrain and y_train using fit()\n",
    "xgb_grid.fit(x_train_res_copy, y_train_res)\n",
    "\n"
   ]
  },
  {
   "cell_type": "code",
   "execution_count": null,
   "metadata": {},
   "outputs": [],
   "source": [
    "print('Best parameters for XGBoost classifier: ', xgb_grid.best_params_, '\\n')"
   ]
  },
  {
   "cell_type": "code",
   "execution_count": null,
   "metadata": {},
   "outputs": [],
   "source": []
  },
  {
   "cell_type": "code",
   "execution_count": null,
   "metadata": {},
   "outputs": [],
   "source": [
    "# Titasta"
   ]
  },
  {
   "cell_type": "code",
   "execution_count": null,
   "metadata": {},
   "outputs": [],
   "source": [
    "# gradient_boost with HPT\n",
    "xg_b=XGBClassifier(random_state=10,###????)\n",
    "\n",
    "x_train_res_copy.columns = [regex.sub(\"_\", col) if any(x in str(col) for x in set(('[', ']', '<'))) else col for col in x_train_res_copy.columns.values]\n",
    "\n",
    "x_test_res_copy.columns = [regex.sub(\"_\", col) if any(x in str(col) for x in set(('[', ']', '<'))) else col for col in x_test_res_copy.columns.values]\n",
    "\n",
    "xg_b.fit(x_train_res_copy,y_train_res)\n",
    "\n",
    "y_pred_xg_b=xg_b.predict(x_test_res_copy)"
   ]
  },
  {
   "cell_type": "code",
   "execution_count": null,
   "metadata": {},
   "outputs": [],
   "source": [
    "####################################### FINAL MODEL SELECTION ################################################"
   ]
  },
  {
   "cell_type": "code",
   "execution_count": null,
   "metadata": {},
   "outputs": [],
   "source": [
    "# Stacked classifier full model with DT and RF"
   ]
  },
  {
   "cell_type": "code",
   "execution_count": null,
   "metadata": {},
   "outputs": [],
   "source": [
    "from sklearn.ensemble import StackingClassifier,GradientBoostingClassifier"
   ]
  },
  {
   "cell_type": "code",
   "execution_count": null,
   "metadata": {},
   "outputs": [],
   "source": [
    "base_learners = [('Decision Tree', DecisionTreeClassifier(min_samples_split=41,min_samples_leaf=63,\n",
    "                                                          max_depth=36,criterion='entropy')),\n",
    "                 ('Random Forest', RandomForestClassifier(random_state=10,n_estimators=400,min_samples_split=5,\n",
    "                                    max_features='auto',max_depth=60,bootstrap=False))]"
   ]
  },
  {
   "cell_type": "code",
   "execution_count": null,
   "metadata": {},
   "outputs": [],
   "source": [
    "stack_model_gdBoost = StackingClassifier(estimators = base_learners, final_estimator = GradientBoostingClassifier(random_state = 8))"
   ]
  },
  {
   "cell_type": "code",
   "execution_count": null,
   "metadata": {},
   "outputs": [],
   "source": [
    "stack_model_gdBoost.fit(x_train_res, y_train_res)"
   ]
  },
  {
   "cell_type": "code",
   "execution_count": null,
   "metadata": {},
   "outputs": [],
   "source": [
    "y_pred = stack_model_gdBoost.predict(x_test_res)"
   ]
  },
  {
   "cell_type": "code",
   "execution_count": null,
   "metadata": {},
   "outputs": [],
   "source": [
    "print('training accuracy',stack_model_gdBoost.score(x_train_res,y_train_res))\n",
    "print('testing accuracy',stack_model_gdBoost.score(x_test_res,y_test_res))"
   ]
  },
  {
   "cell_type": "code",
   "execution_count": null,
   "metadata": {},
   "outputs": [],
   "source": [
    "print(plot_confusion_matrix(estimator=stack_model_gdBoost,X=x_test_res,y_true=y_test_res,\n",
    "                            cmap=\"YlGnBu\",colorbar=False,display_labels=['Charged off','fully paid']))\n",
    "plt.title('Confussion matrix for testing data',size=15)\n",
    "plt.show()"
   ]
  },
  {
   "cell_type": "code",
   "execution_count": null,
   "metadata": {},
   "outputs": [],
   "source": [
    "print(classification_report(y_test_res,y_pred))"
   ]
  },
  {
   "cell_type": "code",
   "execution_count": null,
   "metadata": {},
   "outputs": [],
   "source": [
    "model_rf_hpt_roc_auc=roc_auc_score(y_test_res,stack_model_gdBoost.predict_proba(x_test_res)[:,1])\n",
    "model_rf_hpt_roc_auc"
   ]
  },
  {
   "cell_type": "code",
   "execution_count": null,
   "metadata": {
    "scrolled": true
   },
   "outputs": [],
   "source": [
    "import eli5\n",
    "from eli5.sklearn import PermutationImportance\n",
    "stack_model_gdBoost.fit(x_train_res, y_train_res)\n",
    "perm = PermutationImportance(stack_model_gdBoost, random_state=10).fit(x_test_res, y_test_res)\n",
    "eli5.show_weights(perm, feature_names = x_train_res.columns.tolist())"
   ]
  },
  {
   "cell_type": "code",
   "execution_count": null,
   "metadata": {},
   "outputs": [],
   "source": [
    "# 20 most important features considered"
   ]
  },
  {
   "cell_type": "code",
   "execution_count": null,
   "metadata": {},
   "outputs": [],
   "source": [
    "imp_features = ['Annual Income','Home Ownership_Home Mortgage','Credit Score','Current Loan Amount','Home Ownership_Rent','Home Ownership_Own Home','Term_Short Term','Years in current job_10+ years','Purpose_Debt Consolidation','Monthly Debt','Current Credit Balance','Number of Credit Problems','Maximum Open Credit','Years in current job_2 years','Years in current job_3 years','Number of Open Accounts','Years of Credit History','Years in current job_< 1 year','Months since last delinquent','Years in current job_4 years']"
   ]
  },
  {
   "cell_type": "code",
   "execution_count": null,
   "metadata": {},
   "outputs": [],
   "source": [
    "# Stacked classifier model with selective features DT and RF "
   ]
  },
  {
   "cell_type": "code",
   "execution_count": null,
   "metadata": {},
   "outputs": [],
   "source": [
    "x_train_imp=x_train_res[imp_features]\n",
    "x_test_imp=x_test_res[imp_features]\n",
    "\n",
    "base_learners = [('Decision Tree', DecisionTreeClassifier(min_samples_split=41,min_samples_leaf=63,\n",
    "                                                          max_depth=36,criterion='entropy')),\n",
    "                 ('Random Forest', RandomForestClassifier(random_state=10,n_estimators=400,min_samples_split=5,\n",
    "                                    max_features='auto',max_depth=60,bootstrap=False))]\n",
    "\n",
    "stack_model_gdBoost_partial = StackingClassifier(estimators = base_learners, final_estimator = GradientBoostingClassifier(random_state = 8))"
   ]
  },
  {
   "cell_type": "code",
   "execution_count": null,
   "metadata": {},
   "outputs": [],
   "source": [
    "stack_model_gdBoost_partial.fit(x_train_imp, y_train_res)\n",
    "\n",
    "y_pred_imp_feature = stack_model_gdBoost_partial.predict(x_test_imp)"
   ]
  },
  {
   "cell_type": "code",
   "execution_count": null,
   "metadata": {},
   "outputs": [],
   "source": [
    "print('training accuracy',stack_model_gdBoost_partial.score(x_train_imp,y_train_res))\n",
    "print('testing accuracy',stack_model_gdBoost_partial.score(x_test_imp,y_test_res))"
   ]
  },
  {
   "cell_type": "code",
   "execution_count": null,
   "metadata": {},
   "outputs": [],
   "source": [
    "confusion_matrix(y_test_res,y_pred_imp_feature)"
   ]
  },
  {
   "cell_type": "code",
   "execution_count": null,
   "metadata": {},
   "outputs": [],
   "source": [
    "print(plot_confusion_matrix(estimator=stack_model_gdBoost_partial,X=x_test_imp,y_true=y_test_res,\n",
    "                            cmap=\"YlGnBu\",colorbar=False,display_labels=['Charged off','fully paid']))\n",
    "plt.title('Confussion matrix for testing data',size=15)\n",
    "plt.show()"
   ]
  },
  {
   "cell_type": "code",
   "execution_count": null,
   "metadata": {},
   "outputs": [],
   "source": [
    "print(classification_report(y_test_res,y_pred_imp_feature))"
   ]
  },
  {
   "cell_type": "code",
   "execution_count": null,
   "metadata": {},
   "outputs": [],
   "source": [
    "model_roc_auc=roc_auc_score(y_test_res,stack_model_gdBoost_partial.predict_proba(x_test_imp)[:,1])\n",
    "model_roc_auc"
   ]
  }
 ],
 "metadata": {
  "kernelspec": {
   "display_name": "Python 3 (ipykernel)",
   "language": "python",
   "name": "python3"
  },
  "language_info": {
   "codemirror_mode": {
    "name": "ipython",
    "version": 3
   },
   "file_extension": ".py",
   "mimetype": "text/x-python",
   "name": "python",
   "nbconvert_exporter": "python",
   "pygments_lexer": "ipython3",
   "version": "3.8.5"
  }
 },
 "nbformat": 4,
 "nbformat_minor": 4
}
